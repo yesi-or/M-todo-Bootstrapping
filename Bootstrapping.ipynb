{
 "cells": [
  {
   "cell_type": "markdown",
   "metadata": {},
   "source": [
    "¡Hola!\n",
    "\n",
    "Mi nombre es Marcos Torres y tengo el gusto de revisar tu código el día de hoy.\n",
    "\n",
    "Cuando vea algo notable o algún asunto en el notebook, te dejaré un comentario o un hint. Se que encontraras la mejor respuesta para resolver todos los comentarios, de no ser así, no te preocupes en futuras iteraciones dejaré comentarios y pistas más específicos.\n",
    "\n",
    "Este proceso es muy parecido al que se recibe de un gerente o de un Senior Data Scientist en un trabajo real, por lo que te estarás preparando para la experiencia en la vida real.\n",
    "\n",
    "Encontrarás comentarios en verde, amarillo o rojo como los siguientes:\n",
    "\n",
    "<div class=\"alert alert-block alert-success\">\n",
    "<b>Comentario del revisor</b> <a class=\"tocSkip\"></a>\n",
    "\n",
    "Buen trabajo. ¡Lo hiciste muy bien!\n",
    "</div>\n",
    "\n",
    "<div class=\"alert alert-block alert-warning\">\n",
    "<b>Comentario del revisor</b> <a class=\"tocSkip\"></a>\n",
    "\n",
    "Nota. Se puede mejorar.\n",
    "</div>\n",
    "\n",
    "<div class=\"alert alert-block alert-danger\">\n",
    "<b>Comentario del revisor</b> <a class=\"tocSkip\"></a>\n",
    "\n",
    "Necesitas corregirlo. Este bloque indica que se requiere una correción. El trabajo no se acepta si tiene estos bloques.\n",
    "</div>\n",
    "\n",
    "Puedes responder a mis comentarios usando estos bloques:\n",
    "\n",
    "<div class=\"alert alert-block alert-info\">\n",
    "<b>Respuesta del estudiante.</b> <a class=\"tocSkip\"></a>\n",
    "</div>"
   ]
  },
  {
   "cell_type": "markdown",
   "metadata": {},
   "source": [
    "## Descarga y prepara los datos. Explica el procedimiento."
   ]
  },
  {
   "cell_type": "code",
   "execution_count": 1,
   "metadata": {},
   "outputs": [],
   "source": [
    "# Cargar todas las librerías\n",
    "import pandas as pd\n",
    "import numpy as np\n",
    "from sklearn.model_selection import train_test_split\n",
    "from sklearn.linear_model import LinearRegression\n",
    "from sklearn.metrics import mean_squared_error\n",
    "import matplotlib.pyplot as plt\n",
    "from scipy import stats"
   ]
  },
  {
   "cell_type": "code",
   "execution_count": 2,
   "metadata": {},
   "outputs": [],
   "source": [
    "#Abre y examina el archivo de datos\n",
    "region_1 = pd.read_csv('https://practicum-content.s3.us-west-1.amazonaws.com/datasets/geo_data_0.csv') \n",
    "region_2 = pd.read_csv('https://practicum-content.s3.us-west-1.amazonaws.com/datasets/geo_data_1.csv') \n",
    "region_3 = pd.read_csv('https://practicum-content.s3.us-west-1.amazonaws.com/datasets/geo_data_2.csv') "
   ]
  },
  {
   "cell_type": "markdown",
   "metadata": {},
   "source": [
    "<div class=\"alert alert-block alert-success\">\n",
    "<b>Comentario del revisor</b> <a class=\"tocSkip\"></a>\n",
    "\n",
    "Bien, usaste una celda independiente para importar las librerías y otra para leer los datos.\n",
    "</div>"
   ]
  },
  {
   "cell_type": "code",
   "execution_count": 3,
   "metadata": {},
   "outputs": [
    {
     "name": "stdout",
     "output_type": "stream",
     "text": [
      "<class 'pandas.core.frame.DataFrame'>\n",
      "RangeIndex: 100000 entries, 0 to 99999\n",
      "Data columns (total 5 columns):\n",
      " #   Column   Non-Null Count   Dtype  \n",
      "---  ------   --------------   -----  \n",
      " 0   id       100000 non-null  object \n",
      " 1   f0       100000 non-null  float64\n",
      " 2   f1       100000 non-null  float64\n",
      " 3   f2       100000 non-null  float64\n",
      " 4   product  100000 non-null  float64\n",
      "dtypes: float64(4), object(1)\n",
      "memory usage: 3.8+ MB\n"
     ]
    },
    {
     "data": {
      "text/html": [
       "<div>\n",
       "<style scoped>\n",
       "    .dataframe tbody tr th:only-of-type {\n",
       "        vertical-align: middle;\n",
       "    }\n",
       "\n",
       "    .dataframe tbody tr th {\n",
       "        vertical-align: top;\n",
       "    }\n",
       "\n",
       "    .dataframe thead th {\n",
       "        text-align: right;\n",
       "    }\n",
       "</style>\n",
       "<table border=\"1\" class=\"dataframe\">\n",
       "  <thead>\n",
       "    <tr style=\"text-align: right;\">\n",
       "      <th></th>\n",
       "      <th>f0</th>\n",
       "      <th>f1</th>\n",
       "      <th>f2</th>\n",
       "      <th>product</th>\n",
       "    </tr>\n",
       "  </thead>\n",
       "  <tbody>\n",
       "    <tr>\n",
       "      <th>count</th>\n",
       "      <td>100000.000000</td>\n",
       "      <td>100000.000000</td>\n",
       "      <td>100000.000000</td>\n",
       "      <td>100000.000000</td>\n",
       "    </tr>\n",
       "    <tr>\n",
       "      <th>mean</th>\n",
       "      <td>0.500419</td>\n",
       "      <td>0.250143</td>\n",
       "      <td>2.502647</td>\n",
       "      <td>92.500000</td>\n",
       "    </tr>\n",
       "    <tr>\n",
       "      <th>std</th>\n",
       "      <td>0.871832</td>\n",
       "      <td>0.504433</td>\n",
       "      <td>3.248248</td>\n",
       "      <td>44.288691</td>\n",
       "    </tr>\n",
       "    <tr>\n",
       "      <th>min</th>\n",
       "      <td>-1.408605</td>\n",
       "      <td>-0.848218</td>\n",
       "      <td>-12.088328</td>\n",
       "      <td>0.000000</td>\n",
       "    </tr>\n",
       "    <tr>\n",
       "      <th>25%</th>\n",
       "      <td>-0.072580</td>\n",
       "      <td>-0.200881</td>\n",
       "      <td>0.287748</td>\n",
       "      <td>56.497507</td>\n",
       "    </tr>\n",
       "    <tr>\n",
       "      <th>50%</th>\n",
       "      <td>0.502360</td>\n",
       "      <td>0.250252</td>\n",
       "      <td>2.515969</td>\n",
       "      <td>91.849972</td>\n",
       "    </tr>\n",
       "    <tr>\n",
       "      <th>75%</th>\n",
       "      <td>1.073581</td>\n",
       "      <td>0.700646</td>\n",
       "      <td>4.715088</td>\n",
       "      <td>128.564089</td>\n",
       "    </tr>\n",
       "    <tr>\n",
       "      <th>max</th>\n",
       "      <td>2.362331</td>\n",
       "      <td>1.343769</td>\n",
       "      <td>16.003790</td>\n",
       "      <td>185.364347</td>\n",
       "    </tr>\n",
       "  </tbody>\n",
       "</table>\n",
       "</div>"
      ],
      "text/plain": [
       "                  f0             f1             f2        product\n",
       "count  100000.000000  100000.000000  100000.000000  100000.000000\n",
       "mean        0.500419       0.250143       2.502647      92.500000\n",
       "std         0.871832       0.504433       3.248248      44.288691\n",
       "min        -1.408605      -0.848218     -12.088328       0.000000\n",
       "25%        -0.072580      -0.200881       0.287748      56.497507\n",
       "50%         0.502360       0.250252       2.515969      91.849972\n",
       "75%         1.073581       0.700646       4.715088     128.564089\n",
       "max         2.362331       1.343769      16.003790     185.364347"
      ]
     },
     "execution_count": 3,
     "metadata": {},
     "output_type": "execute_result"
    }
   ],
   "source": [
    "region_1.info()\n",
    "region_1.describe()"
   ]
  },
  {
   "cell_type": "code",
   "execution_count": 4,
   "metadata": {},
   "outputs": [
    {
     "data": {
      "text/html": [
       "<div>\n",
       "<style scoped>\n",
       "    .dataframe tbody tr th:only-of-type {\n",
       "        vertical-align: middle;\n",
       "    }\n",
       "\n",
       "    .dataframe tbody tr th {\n",
       "        vertical-align: top;\n",
       "    }\n",
       "\n",
       "    .dataframe thead th {\n",
       "        text-align: right;\n",
       "    }\n",
       "</style>\n",
       "<table border=\"1\" class=\"dataframe\">\n",
       "  <thead>\n",
       "    <tr style=\"text-align: right;\">\n",
       "      <th></th>\n",
       "      <th>id</th>\n",
       "      <th>f0</th>\n",
       "      <th>f1</th>\n",
       "      <th>f2</th>\n",
       "      <th>product</th>\n",
       "    </tr>\n",
       "  </thead>\n",
       "  <tbody>\n",
       "    <tr>\n",
       "      <th>24445</th>\n",
       "      <td>iBNbU</td>\n",
       "      <td>-0.410031</td>\n",
       "      <td>0.833765</td>\n",
       "      <td>3.133170</td>\n",
       "      <td>87.527460</td>\n",
       "    </tr>\n",
       "    <tr>\n",
       "      <th>7048</th>\n",
       "      <td>ZNJMF</td>\n",
       "      <td>0.115549</td>\n",
       "      <td>1.160076</td>\n",
       "      <td>3.133662</td>\n",
       "      <td>54.386876</td>\n",
       "    </tr>\n",
       "    <tr>\n",
       "      <th>37776</th>\n",
       "      <td>uYpqQ</td>\n",
       "      <td>0.007175</td>\n",
       "      <td>0.810077</td>\n",
       "      <td>0.700358</td>\n",
       "      <td>48.515852</td>\n",
       "    </tr>\n",
       "    <tr>\n",
       "      <th>96735</th>\n",
       "      <td>ZuBWI</td>\n",
       "      <td>1.665934</td>\n",
       "      <td>-0.366112</td>\n",
       "      <td>6.161269</td>\n",
       "      <td>159.512977</td>\n",
       "    </tr>\n",
       "    <tr>\n",
       "      <th>28631</th>\n",
       "      <td>omRax</td>\n",
       "      <td>-0.377964</td>\n",
       "      <td>0.928260</td>\n",
       "      <td>4.426847</td>\n",
       "      <td>114.576698</td>\n",
       "    </tr>\n",
       "  </tbody>\n",
       "</table>\n",
       "</div>"
      ],
      "text/plain": [
       "          id        f0        f1        f2     product\n",
       "24445  iBNbU -0.410031  0.833765  3.133170   87.527460\n",
       "7048   ZNJMF  0.115549  1.160076  3.133662   54.386876\n",
       "37776  uYpqQ  0.007175  0.810077  0.700358   48.515852\n",
       "96735  ZuBWI  1.665934 -0.366112  6.161269  159.512977\n",
       "28631  omRax -0.377964  0.928260  4.426847  114.576698"
      ]
     },
     "execution_count": 4,
     "metadata": {},
     "output_type": "execute_result"
    }
   ],
   "source": [
    "region_1.sample(5)"
   ]
  },
  {
   "cell_type": "code",
   "execution_count": 5,
   "metadata": {},
   "outputs": [
    {
     "data": {
      "text/plain": [
       "0"
      ]
     },
     "execution_count": 5,
     "metadata": {},
     "output_type": "execute_result"
    }
   ],
   "source": [
    "region_1.duplicated().sum()"
   ]
  },
  {
   "cell_type": "code",
   "execution_count": 6,
   "metadata": {
    "scrolled": true
   },
   "outputs": [
    {
     "data": {
      "text/plain": [
       "id         0\n",
       "f0         0\n",
       "f1         0\n",
       "f2         0\n",
       "product    0\n",
       "dtype: int64"
      ]
     },
     "execution_count": 6,
     "metadata": {},
     "output_type": "execute_result"
    }
   ],
   "source": [
    "region_1.isna().sum()"
   ]
  },
  {
   "cell_type": "markdown",
   "metadata": {},
   "source": [
    "<div class=\"alert alert-block alert-success\">\n",
    "<b>Comentario del revisor</b> <a class=\"tocSkip\"></a>\n",
    "\n",
    "Bien, se exploraron correctamente los valores faltantes.\n",
    "</div>"
   ]
  },
  {
   "cell_type": "code",
   "execution_count": 7,
   "metadata": {},
   "outputs": [
    {
     "name": "stdout",
     "output_type": "stream",
     "text": [
      "<class 'pandas.core.frame.DataFrame'>\n",
      "RangeIndex: 100000 entries, 0 to 99999\n",
      "Data columns (total 5 columns):\n",
      " #   Column   Non-Null Count   Dtype  \n",
      "---  ------   --------------   -----  \n",
      " 0   id       100000 non-null  object \n",
      " 1   f0       100000 non-null  float64\n",
      " 2   f1       100000 non-null  float64\n",
      " 3   f2       100000 non-null  float64\n",
      " 4   product  100000 non-null  float64\n",
      "dtypes: float64(4), object(1)\n",
      "memory usage: 3.8+ MB\n"
     ]
    },
    {
     "data": {
      "text/html": [
       "<div>\n",
       "<style scoped>\n",
       "    .dataframe tbody tr th:only-of-type {\n",
       "        vertical-align: middle;\n",
       "    }\n",
       "\n",
       "    .dataframe tbody tr th {\n",
       "        vertical-align: top;\n",
       "    }\n",
       "\n",
       "    .dataframe thead th {\n",
       "        text-align: right;\n",
       "    }\n",
       "</style>\n",
       "<table border=\"1\" class=\"dataframe\">\n",
       "  <thead>\n",
       "    <tr style=\"text-align: right;\">\n",
       "      <th></th>\n",
       "      <th>f0</th>\n",
       "      <th>f1</th>\n",
       "      <th>f2</th>\n",
       "      <th>product</th>\n",
       "    </tr>\n",
       "  </thead>\n",
       "  <tbody>\n",
       "    <tr>\n",
       "      <th>count</th>\n",
       "      <td>100000.000000</td>\n",
       "      <td>100000.000000</td>\n",
       "      <td>100000.000000</td>\n",
       "      <td>100000.000000</td>\n",
       "    </tr>\n",
       "    <tr>\n",
       "      <th>mean</th>\n",
       "      <td>1.141296</td>\n",
       "      <td>-4.796579</td>\n",
       "      <td>2.494541</td>\n",
       "      <td>68.825000</td>\n",
       "    </tr>\n",
       "    <tr>\n",
       "      <th>std</th>\n",
       "      <td>8.965932</td>\n",
       "      <td>5.119872</td>\n",
       "      <td>1.703572</td>\n",
       "      <td>45.944423</td>\n",
       "    </tr>\n",
       "    <tr>\n",
       "      <th>min</th>\n",
       "      <td>-31.609576</td>\n",
       "      <td>-26.358598</td>\n",
       "      <td>-0.018144</td>\n",
       "      <td>0.000000</td>\n",
       "    </tr>\n",
       "    <tr>\n",
       "      <th>25%</th>\n",
       "      <td>-6.298551</td>\n",
       "      <td>-8.267985</td>\n",
       "      <td>1.000021</td>\n",
       "      <td>26.953261</td>\n",
       "    </tr>\n",
       "    <tr>\n",
       "      <th>50%</th>\n",
       "      <td>1.153055</td>\n",
       "      <td>-4.813172</td>\n",
       "      <td>2.011479</td>\n",
       "      <td>57.085625</td>\n",
       "    </tr>\n",
       "    <tr>\n",
       "      <th>75%</th>\n",
       "      <td>8.621015</td>\n",
       "      <td>-1.332816</td>\n",
       "      <td>3.999904</td>\n",
       "      <td>107.813044</td>\n",
       "    </tr>\n",
       "    <tr>\n",
       "      <th>max</th>\n",
       "      <td>29.421755</td>\n",
       "      <td>18.734063</td>\n",
       "      <td>5.019721</td>\n",
       "      <td>137.945408</td>\n",
       "    </tr>\n",
       "  </tbody>\n",
       "</table>\n",
       "</div>"
      ],
      "text/plain": [
       "                  f0             f1             f2        product\n",
       "count  100000.000000  100000.000000  100000.000000  100000.000000\n",
       "mean        1.141296      -4.796579       2.494541      68.825000\n",
       "std         8.965932       5.119872       1.703572      45.944423\n",
       "min       -31.609576     -26.358598      -0.018144       0.000000\n",
       "25%        -6.298551      -8.267985       1.000021      26.953261\n",
       "50%         1.153055      -4.813172       2.011479      57.085625\n",
       "75%         8.621015      -1.332816       3.999904     107.813044\n",
       "max        29.421755      18.734063       5.019721     137.945408"
      ]
     },
     "execution_count": 7,
     "metadata": {},
     "output_type": "execute_result"
    }
   ],
   "source": [
    "region_2.info()\n",
    "region_2.describe()"
   ]
  },
  {
   "cell_type": "code",
   "execution_count": 8,
   "metadata": {},
   "outputs": [
    {
     "data": {
      "text/html": [
       "<div>\n",
       "<style scoped>\n",
       "    .dataframe tbody tr th:only-of-type {\n",
       "        vertical-align: middle;\n",
       "    }\n",
       "\n",
       "    .dataframe tbody tr th {\n",
       "        vertical-align: top;\n",
       "    }\n",
       "\n",
       "    .dataframe thead th {\n",
       "        text-align: right;\n",
       "    }\n",
       "</style>\n",
       "<table border=\"1\" class=\"dataframe\">\n",
       "  <thead>\n",
       "    <tr style=\"text-align: right;\">\n",
       "      <th></th>\n",
       "      <th>id</th>\n",
       "      <th>f0</th>\n",
       "      <th>f1</th>\n",
       "      <th>f2</th>\n",
       "      <th>product</th>\n",
       "    </tr>\n",
       "  </thead>\n",
       "  <tbody>\n",
       "    <tr>\n",
       "      <th>59252</th>\n",
       "      <td>9dhVi</td>\n",
       "      <td>13.650371</td>\n",
       "      <td>6.181164</td>\n",
       "      <td>3.000312</td>\n",
       "      <td>80.859783</td>\n",
       "    </tr>\n",
       "    <tr>\n",
       "      <th>89547</th>\n",
       "      <td>qAQUB</td>\n",
       "      <td>1.849943</td>\n",
       "      <td>2.471807</td>\n",
       "      <td>0.997354</td>\n",
       "      <td>26.953261</td>\n",
       "    </tr>\n",
       "    <tr>\n",
       "      <th>80414</th>\n",
       "      <td>CK77O</td>\n",
       "      <td>-5.514299</td>\n",
       "      <td>-7.614751</td>\n",
       "      <td>2.003262</td>\n",
       "      <td>57.085625</td>\n",
       "    </tr>\n",
       "    <tr>\n",
       "      <th>2990</th>\n",
       "      <td>Y6Yyp</td>\n",
       "      <td>-4.383352</td>\n",
       "      <td>-9.663722</td>\n",
       "      <td>-0.000487</td>\n",
       "      <td>3.179103</td>\n",
       "    </tr>\n",
       "    <tr>\n",
       "      <th>59017</th>\n",
       "      <td>RpFQ8</td>\n",
       "      <td>16.200382</td>\n",
       "      <td>4.227939</td>\n",
       "      <td>1.000596</td>\n",
       "      <td>26.953261</td>\n",
       "    </tr>\n",
       "  </tbody>\n",
       "</table>\n",
       "</div>"
      ],
      "text/plain": [
       "          id         f0        f1        f2    product\n",
       "59252  9dhVi  13.650371  6.181164  3.000312  80.859783\n",
       "89547  qAQUB   1.849943  2.471807  0.997354  26.953261\n",
       "80414  CK77O  -5.514299 -7.614751  2.003262  57.085625\n",
       "2990   Y6Yyp  -4.383352 -9.663722 -0.000487   3.179103\n",
       "59017  RpFQ8  16.200382  4.227939  1.000596  26.953261"
      ]
     },
     "execution_count": 8,
     "metadata": {},
     "output_type": "execute_result"
    }
   ],
   "source": [
    "region_2.sample(5)"
   ]
  },
  {
   "cell_type": "code",
   "execution_count": 9,
   "metadata": {},
   "outputs": [
    {
     "data": {
      "text/plain": [
       "0"
      ]
     },
     "execution_count": 9,
     "metadata": {},
     "output_type": "execute_result"
    }
   ],
   "source": [
    "region_2.duplicated().sum()"
   ]
  },
  {
   "cell_type": "code",
   "execution_count": 10,
   "metadata": {},
   "outputs": [
    {
     "data": {
      "text/plain": [
       "id         0\n",
       "f0         0\n",
       "f1         0\n",
       "f2         0\n",
       "product    0\n",
       "dtype: int64"
      ]
     },
     "execution_count": 10,
     "metadata": {},
     "output_type": "execute_result"
    }
   ],
   "source": [
    "region_2.isna().sum()"
   ]
  },
  {
   "cell_type": "code",
   "execution_count": 11,
   "metadata": {},
   "outputs": [
    {
     "name": "stdout",
     "output_type": "stream",
     "text": [
      "<class 'pandas.core.frame.DataFrame'>\n",
      "RangeIndex: 100000 entries, 0 to 99999\n",
      "Data columns (total 5 columns):\n",
      " #   Column   Non-Null Count   Dtype  \n",
      "---  ------   --------------   -----  \n",
      " 0   id       100000 non-null  object \n",
      " 1   f0       100000 non-null  float64\n",
      " 2   f1       100000 non-null  float64\n",
      " 3   f2       100000 non-null  float64\n",
      " 4   product  100000 non-null  float64\n",
      "dtypes: float64(4), object(1)\n",
      "memory usage: 3.8+ MB\n"
     ]
    },
    {
     "data": {
      "text/html": [
       "<div>\n",
       "<style scoped>\n",
       "    .dataframe tbody tr th:only-of-type {\n",
       "        vertical-align: middle;\n",
       "    }\n",
       "\n",
       "    .dataframe tbody tr th {\n",
       "        vertical-align: top;\n",
       "    }\n",
       "\n",
       "    .dataframe thead th {\n",
       "        text-align: right;\n",
       "    }\n",
       "</style>\n",
       "<table border=\"1\" class=\"dataframe\">\n",
       "  <thead>\n",
       "    <tr style=\"text-align: right;\">\n",
       "      <th></th>\n",
       "      <th>f0</th>\n",
       "      <th>f1</th>\n",
       "      <th>f2</th>\n",
       "      <th>product</th>\n",
       "    </tr>\n",
       "  </thead>\n",
       "  <tbody>\n",
       "    <tr>\n",
       "      <th>count</th>\n",
       "      <td>100000.000000</td>\n",
       "      <td>100000.000000</td>\n",
       "      <td>100000.000000</td>\n",
       "      <td>100000.000000</td>\n",
       "    </tr>\n",
       "    <tr>\n",
       "      <th>mean</th>\n",
       "      <td>0.002023</td>\n",
       "      <td>-0.002081</td>\n",
       "      <td>2.495128</td>\n",
       "      <td>95.000000</td>\n",
       "    </tr>\n",
       "    <tr>\n",
       "      <th>std</th>\n",
       "      <td>1.732045</td>\n",
       "      <td>1.730417</td>\n",
       "      <td>3.473445</td>\n",
       "      <td>44.749921</td>\n",
       "    </tr>\n",
       "    <tr>\n",
       "      <th>min</th>\n",
       "      <td>-8.760004</td>\n",
       "      <td>-7.084020</td>\n",
       "      <td>-11.970335</td>\n",
       "      <td>0.000000</td>\n",
       "    </tr>\n",
       "    <tr>\n",
       "      <th>25%</th>\n",
       "      <td>-1.162288</td>\n",
       "      <td>-1.174820</td>\n",
       "      <td>0.130359</td>\n",
       "      <td>59.450441</td>\n",
       "    </tr>\n",
       "    <tr>\n",
       "      <th>50%</th>\n",
       "      <td>0.009424</td>\n",
       "      <td>-0.009482</td>\n",
       "      <td>2.484236</td>\n",
       "      <td>94.925613</td>\n",
       "    </tr>\n",
       "    <tr>\n",
       "      <th>75%</th>\n",
       "      <td>1.158535</td>\n",
       "      <td>1.163678</td>\n",
       "      <td>4.858794</td>\n",
       "      <td>130.595027</td>\n",
       "    </tr>\n",
       "    <tr>\n",
       "      <th>max</th>\n",
       "      <td>7.238262</td>\n",
       "      <td>7.844801</td>\n",
       "      <td>16.739402</td>\n",
       "      <td>190.029838</td>\n",
       "    </tr>\n",
       "  </tbody>\n",
       "</table>\n",
       "</div>"
      ],
      "text/plain": [
       "                  f0             f1             f2        product\n",
       "count  100000.000000  100000.000000  100000.000000  100000.000000\n",
       "mean        0.002023      -0.002081       2.495128      95.000000\n",
       "std         1.732045       1.730417       3.473445      44.749921\n",
       "min        -8.760004      -7.084020     -11.970335       0.000000\n",
       "25%        -1.162288      -1.174820       0.130359      59.450441\n",
       "50%         0.009424      -0.009482       2.484236      94.925613\n",
       "75%         1.158535       1.163678       4.858794     130.595027\n",
       "max         7.238262       7.844801      16.739402     190.029838"
      ]
     },
     "execution_count": 11,
     "metadata": {},
     "output_type": "execute_result"
    }
   ],
   "source": [
    "region_3.info()\n",
    "region_3.describe()"
   ]
  },
  {
   "cell_type": "code",
   "execution_count": 12,
   "metadata": {},
   "outputs": [
    {
     "data": {
      "text/html": [
       "<div>\n",
       "<style scoped>\n",
       "    .dataframe tbody tr th:only-of-type {\n",
       "        vertical-align: middle;\n",
       "    }\n",
       "\n",
       "    .dataframe tbody tr th {\n",
       "        vertical-align: top;\n",
       "    }\n",
       "\n",
       "    .dataframe thead th {\n",
       "        text-align: right;\n",
       "    }\n",
       "</style>\n",
       "<table border=\"1\" class=\"dataframe\">\n",
       "  <thead>\n",
       "    <tr style=\"text-align: right;\">\n",
       "      <th></th>\n",
       "      <th>id</th>\n",
       "      <th>f0</th>\n",
       "      <th>f1</th>\n",
       "      <th>f2</th>\n",
       "      <th>product</th>\n",
       "    </tr>\n",
       "  </thead>\n",
       "  <tbody>\n",
       "    <tr>\n",
       "      <th>89593</th>\n",
       "      <td>w5qlX</td>\n",
       "      <td>-0.109187</td>\n",
       "      <td>0.187493</td>\n",
       "      <td>1.217335</td>\n",
       "      <td>63.885056</td>\n",
       "    </tr>\n",
       "    <tr>\n",
       "      <th>37091</th>\n",
       "      <td>0DhJD</td>\n",
       "      <td>-2.095987</td>\n",
       "      <td>2.158162</td>\n",
       "      <td>6.440236</td>\n",
       "      <td>115.862158</td>\n",
       "    </tr>\n",
       "    <tr>\n",
       "      <th>12697</th>\n",
       "      <td>FZ8q6</td>\n",
       "      <td>-0.950188</td>\n",
       "      <td>1.721238</td>\n",
       "      <td>8.246901</td>\n",
       "      <td>148.121842</td>\n",
       "    </tr>\n",
       "    <tr>\n",
       "      <th>29359</th>\n",
       "      <td>ot0SW</td>\n",
       "      <td>-2.739368</td>\n",
       "      <td>-1.055905</td>\n",
       "      <td>4.971578</td>\n",
       "      <td>178.733284</td>\n",
       "    </tr>\n",
       "    <tr>\n",
       "      <th>48466</th>\n",
       "      <td>ZCSLN</td>\n",
       "      <td>3.645640</td>\n",
       "      <td>3.059847</td>\n",
       "      <td>0.946516</td>\n",
       "      <td>60.258458</td>\n",
       "    </tr>\n",
       "  </tbody>\n",
       "</table>\n",
       "</div>"
      ],
      "text/plain": [
       "          id        f0        f1        f2     product\n",
       "89593  w5qlX -0.109187  0.187493  1.217335   63.885056\n",
       "37091  0DhJD -2.095987  2.158162  6.440236  115.862158\n",
       "12697  FZ8q6 -0.950188  1.721238  8.246901  148.121842\n",
       "29359  ot0SW -2.739368 -1.055905  4.971578  178.733284\n",
       "48466  ZCSLN  3.645640  3.059847  0.946516   60.258458"
      ]
     },
     "execution_count": 12,
     "metadata": {},
     "output_type": "execute_result"
    }
   ],
   "source": [
    "region_3.sample(5)"
   ]
  },
  {
   "cell_type": "markdown",
   "metadata": {},
   "source": [
    "<div class=\"alert alert-block alert-success\">\n",
    "<b>Comentario del revisor</b> <a class=\"tocSkip\"></a>\n",
    "\n",
    "Buen uso de los métodos de pandas para explorar los datos.\n",
    "</div>"
   ]
  },
  {
   "cell_type": "code",
   "execution_count": 13,
   "metadata": {},
   "outputs": [
    {
     "data": {
      "text/plain": [
       "0"
      ]
     },
     "execution_count": 13,
     "metadata": {},
     "output_type": "execute_result"
    }
   ],
   "source": [
    "region_3.duplicated().sum()"
   ]
  },
  {
   "cell_type": "code",
   "execution_count": 14,
   "metadata": {
    "scrolled": true
   },
   "outputs": [
    {
     "data": {
      "text/plain": [
       "id         0\n",
       "f0         0\n",
       "f1         0\n",
       "f2         0\n",
       "product    0\n",
       "dtype: int64"
      ]
     },
     "execution_count": 14,
     "metadata": {},
     "output_type": "execute_result"
    }
   ],
   "source": [
    "region_3.isna().sum()"
   ]
  },
  {
   "cell_type": "markdown",
   "metadata": {},
   "source": [
    "Iniciamos el proyecto importando los datos con los cuales vamos a trabajar. Hallamos la información y descripción de las tablas, buscamos si hay algunos datos ausentes o duplicados. Y vemos que todo luce bien, no hay la necesidad de hacer algunos cambios en los datos."
   ]
  },
  {
   "cell_type": "markdown",
   "metadata": {},
   "source": [
    "## Entrena y prueba el modelo para cada región:"
   ]
  },
  {
   "cell_type": "markdown",
   "metadata": {},
   "source": [
    "### Región 1"
   ]
  },
  {
   "cell_type": "code",
   "execution_count": 15,
   "metadata": {
    "scrolled": true
   },
   "outputs": [
    {
     "name": "stdout",
     "output_type": "stream",
     "text": [
      "(75000, 3)\n",
      "(25000, 3)\n",
      "Desviación Estándar real: 44.286912625663646\n",
      "Media Real: 92.07859674082927\n",
      "Media Predicha: 92.59256778438035\n",
      "RMSE: 37.5794217150813\n"
     ]
    }
   ],
   "source": [
    "# Divide los datos en un conjunto de entrenamiento y un conjunto de validación en una proporción de 75:25\n",
    "features = region_1.drop(['id', 'product'], axis=1)\n",
    "target = region_1['product']\n",
    "features_train, features_val, target_train, target_val = train_test_split(features, target, test_size=0.25, random_state=12345)\n",
    "print(features_train.shape)\n",
    "print(features_val.shape)\n",
    "\n",
    "# Entrena el modelo y haz predicciones para el conjunto de validación.\n",
    "model_1 = LinearRegression()\n",
    "model_1.fit(features_train, target_train)\n",
    "predicted_valid = model_1.predict(features_val)\n",
    "\n",
    "# Guarda las predicciones y las respuestas correctas para el conjunto de validación.\n",
    "predictions_1 = pd.Series(predicted_valid, index=target_val.index)\n",
    "correct_answers_1 = target_val\n",
    "\n",
    "# Muestra el volumen medio de reservas predicho y RMSE del modelo.\n",
    "rmse = mean_squared_error(correct_answers_1,predictions_1, squared=False)\n",
    "desviacion_estandar = np.std(correct_answers_1, ddof=1) \n",
    "print(f\"Desviación Estándar real: {desviacion_estandar}\")\n",
    "print(\"Media Real:\", correct_answers_1.mean())\n",
    "print(\"Media Predicha:\", predictions_1.mean())\n",
    "print(\"RMSE:\", rmse)"
   ]
  },
  {
   "cell_type": "markdown",
   "metadata": {},
   "source": [
    "<div class=\"alert alert-block alert-success\">\n",
    "<b>Comentario del revisor</b> <a class=\"tocSkip\"></a>\n",
    "\n",
    "Se entrenó correctamente el modelo para esta región.\n",
    "</div>"
   ]
  },
  {
   "cell_type": "markdown",
   "metadata": {},
   "source": [
    "Análisis de los resultados de la Región 1:\n",
    "\n",
    "- El promedio de los valores reales es de 92.08 y el promedio de los valores que el modelo ha predicho es de 92.59.\n",
    "\n",
    "- La dispersión de los valores reales alrededor de su media es de 44.29. \n",
    "\n",
    "- La diferencia promedio entre los valores reales y los valores predichos es de aproximadamente 37.58 unidades. \n",
    "\n",
    "La media real y la media predicha son bastante similares, lo que indica que el modelo tiene un buen rendimiento en términos de predicciones promedio.\n",
    "\n",
    "La desviación estándar real nos dice cuánta variabilidad hay en los datos. Esta desviación estándar es alta, por lo que hay muchos valores que pueden alejarse significativamente de la media.\n",
    "\n",
    "En este caso, el RMSE (37.58) es menor que la desviación estándar real (44.29). Esto sugiere que, aunque hay una buena cantidad de variabilidad en los datos, el modelo está haciendo un trabajo razonable al predecir, ya que las desviaciones de las predicciones no son extremadamente grandes en comparación con la dispersión total de los datos."
   ]
  },
  {
   "cell_type": "markdown",
   "metadata": {},
   "source": [
    "### Región 2"
   ]
  },
  {
   "cell_type": "code",
   "execution_count": 16,
   "metadata": {},
   "outputs": [
    {
     "name": "stdout",
     "output_type": "stream",
     "text": [
      "(75000, 3)\n",
      "(25000, 3)\n",
      "Desviación Estándar real: 46.02216537514022\n",
      "Media Real: 68.72313602435997\n",
      "Media Predicha: 68.728546895446\n",
      "RMSE: 0.893099286775617\n"
     ]
    }
   ],
   "source": [
    "# Divide los datos en un conjunto de entrenamiento y un conjunto de validación en una proporción de 75:25\n",
    "\n",
    "features = region_2.drop(['id', 'product'], axis=1)\n",
    "target = region_2['product']\n",
    "features_train, features_val, target_train, target_val = train_test_split(features, target, test_size=0.25, random_state=12345)\n",
    "print(features_train.shape)\n",
    "print(features_val.shape)\n",
    "\n",
    "# Entrena el modelo y haz predicciones para el conjunto de validación.\n",
    "model_2 = LinearRegression()\n",
    "model_2.fit(features_train, target_train)\n",
    "predicted_valid = model_2.predict(features_val)\n",
    "\n",
    "# Guarda las predicciones y las respuestas correctas para el conjunto de validación.\n",
    "predictions_2 = pd.Series(predicted_valid, index=target_val.index)\n",
    "correct_answers_2= target_val\n",
    "\n",
    "# Muestra el volumen medio de reservas predicho y RMSE del modelo.\n",
    "rmse = mean_squared_error(correct_answers_2,predictions_2, squared=False)\n",
    "desviacion_estandar = np.std(correct_answers_2, ddof=1) \n",
    "print(f\"Desviación Estándar real: {desviacion_estandar}\")\n",
    "print(\"Media Real:\", correct_answers_2.mean())\n",
    "print(\"Media Predicha:\", predictions_2.mean())\n",
    "print(\"RMSE:\", rmse)"
   ]
  },
  {
   "cell_type": "markdown",
   "metadata": {},
   "source": [
    "<div class=\"alert alert-block alert-success\">\n",
    "<b>Comentario del revisor</b> <a class=\"tocSkip\"></a>\n",
    "\n",
    "Muy bien, las métricas son acorde a lo esperado para la región 2.\n",
    "</div>"
   ]
  },
  {
   "cell_type": "markdown",
   "metadata": {},
   "source": [
    "Análisis de los resultados de la Región 2:\n",
    "\n",
    "- La media aritmética de los valores reales es aproximadamente 68.72.\n",
    "\n",
    "- La media predicha de 68.73 es el promedio de los valores que tu modelo ha predicho.\n",
    "\n",
    "- Esta desviación estándar de 46.02 sugiere que hay una amplia dispersión en los valores reales, lo que significa que los resultados están bastante separados de la media.\n",
    "\n",
    "- Este RMSE de 0.89 indica que, en promedio, las predicciones del modelo se desvían de los valores reales en solo 0.89 unidades. Esto sugiere que el modelo está haciendo un buen trabajo en la predicción.\n",
    "\n",
    "La media predicha es casi idéntica a la media real, lo que indica que el modelo tiene un buen ajuste en términos de nivel promedio.\n",
    "\n",
    "El RMSE es muy bajo en comparación con la desviación estándar real. A pesar de que los datos son bastante dispersos (como indica la desviación estándar), las predicciones del modelo son muy precisas. Por lo tanto, el modelo logra predecir los valores con muy poca variabilidad en comparación con la variabilidad total de los datos.\n",
    "\n",
    "En resumen, este modelo de regresión lineal parece funcionar muy bien: las predicciones son muy cercanas a los valores reales, y el RMSE bajo indica una buena precisión. Esto sugiere que, aunque hay una gran variabilidad en los datos, y el modelo logra capturar la tendencia general de manera efectiva."
   ]
  },
  {
   "cell_type": "markdown",
   "metadata": {},
   "source": [
    "### Región 3"
   ]
  },
  {
   "cell_type": "code",
   "execution_count": 17,
   "metadata": {},
   "outputs": [
    {
     "name": "stdout",
     "output_type": "stream",
     "text": [
      "(75000, 3)\n",
      "(25000, 3)\n",
      "Desviación Estándar real: 44.90298244552798\n",
      "MEDIA REAL: 94.88423280885438\n",
      "MEDIA PREDICHA: 94.96504596800489\n",
      "RMSE: 40.02970873393434\n"
     ]
    }
   ],
   "source": [
    "# Divide los datos en un conjunto de entrenamiento y un conjunto de validación en una proporción de 75:25\n",
    "\n",
    "features = region_3.drop(['id', 'product'], axis=1)\n",
    "target = region_3['product']\n",
    "features_train, features_val, target_train, target_val = train_test_split(features, target, test_size=0.25, random_state=12345)\n",
    "print(features_train.shape)\n",
    "print(features_val.shape)\n",
    "\n",
    "# Entrena el modelo y haz predicciones para el conjunto de validación.\n",
    "model_3 = LinearRegression()\n",
    "model_3.fit(features_train, target_train)\n",
    "predicted_valid = model_3.predict(features_val)\n",
    "\n",
    "# Guarda las predicciones y las respuestas correctas para el conjunto de validación.\n",
    "predictions_3 = pd.Series(predicted_valid, index=target_val.index)\n",
    "correct_answers_3 = target_val\n",
    "\n",
    "# Muestra el volumen medio de reservas predicho y RMSE del modelo.\n",
    "rmse = mean_squared_error(correct_answers_3,predictions_3, squared=False)\n",
    "desviacion_estandar = np.std(correct_answers_3, ddof=1) \n",
    "print(f\"Desviación Estándar real: {desviacion_estandar}\")\n",
    "print(\"MEDIA REAL:\", correct_answers_3.mean())\n",
    "print(\"MEDIA PREDICHA:\", predictions_3.mean())\n",
    "print(\"RMSE:\", rmse)"
   ]
  },
  {
   "cell_type": "markdown",
   "metadata": {},
   "source": [
    "Análisis de los resultados de la Región 3:\n",
    "\n",
    "- El promedio de los valores reales es de 94.88.\n",
    "\n",
    "- La media de las predicciones es de 94.97. \n",
    "\n",
    "- Esta desviación estándar de 44.90 sugiere que los valores están bastante dispersos alrededor de la media.\n",
    "\n",
    "- Las predicciones del modelo se desvían de los valores reales en aproximadamente 40.03 unidades.\n",
    "\n",
    "La media predicha es muy similar a la media real, lo que es un buen indicador de que el modelo está capturando adecuadamente la tendencia general de los datos. \n",
    "\n",
    "El RMSE de 40.03 es significativo, especialmente considerando la desviación estándar real de 44.90. Esto sugiere que, aunque las predicciones son cercanas al promedio, existe una alta variabilidad en las predicciones individuales. En otras palabras, las predicciones del modelo pueden estar bastante lejos de los valores reales para muchas observaciones."
   ]
  },
  {
   "cell_type": "markdown",
   "metadata": {},
   "source": [
    "<div class=\"alert alert-block alert-success\">\n",
    "<b>Comentario del revisor</b> <a class=\"tocSkip\"></a>\n",
    "\n",
    "Buenos comentarios sobre la región 3.\n",
    "</div>"
   ]
  },
  {
   "cell_type": "markdown",
   "metadata": {},
   "source": [
    "## Prepárate para el cálculo de ganancias:"
   ]
  },
  {
   "cell_type": "markdown",
   "metadata": {},
   "source": [
    "Almacena todos los valores necesarios para los cálculos en variables separadas.\n",
    "Dada la inversión de 100 millones por 200 pozos petrolíferos, de media un pozo petrolífero debe producir al menos un valor de 500,000 dólares en unidades para evitar pérdidas (esto es equivalente a 111.1 unidades). Compara esta cantidad con la cantidad media de reservas en cada región.\n",
    "Presenta conclusiones sobre cómo preparar el paso para calcular el beneficio."
   ]
  },
  {
   "cell_type": "code",
   "execution_count": 18,
   "metadata": {},
   "outputs": [],
   "source": [
    "# Definición de variables\n",
    "\n",
    "inversion_total = 100_000_000  # inversión total en dólares\n",
    "numero_de_pozos = 200  # número de pozos seleccionados\n",
    "produccion_media_necesaria = 500_000  # producción media necesaria por pozo en dólares\n",
    "unidades_por_pozo = 111.1"
   ]
  },
  {
   "cell_type": "code",
   "execution_count": 19,
   "metadata": {
    "scrolled": true
   },
   "outputs": [
    {
     "data": {
      "text/html": [
       "<div>\n",
       "<style scoped>\n",
       "    .dataframe tbody tr th:only-of-type {\n",
       "        vertical-align: middle;\n",
       "    }\n",
       "\n",
       "    .dataframe tbody tr th {\n",
       "        vertical-align: top;\n",
       "    }\n",
       "\n",
       "    .dataframe thead th {\n",
       "        text-align: right;\n",
       "    }\n",
       "</style>\n",
       "<table border=\"1\" class=\"dataframe\">\n",
       "  <thead>\n",
       "    <tr style=\"text-align: right;\">\n",
       "      <th></th>\n",
       "      <th>Region 1</th>\n",
       "      <th>Region 2</th>\n",
       "      <th>Region 3</th>\n",
       "      <th>Region ideal</th>\n",
       "    </tr>\n",
       "  </thead>\n",
       "  <tbody>\n",
       "    <tr>\n",
       "      <th>0</th>\n",
       "      <td>92.592568</td>\n",
       "      <td>68.728547</td>\n",
       "      <td>94.965046</td>\n",
       "      <td>111.1</td>\n",
       "    </tr>\n",
       "  </tbody>\n",
       "</table>\n",
       "</div>"
      ],
      "text/plain": [
       "    Region 1   Region 2   Region 3  Region ideal\n",
       "0  92.592568  68.728547  94.965046         111.1"
      ]
     },
     "execution_count": 19,
     "metadata": {},
     "output_type": "execute_result"
    }
   ],
   "source": [
    "# Compara 111.1 unidades con la cantidad media de reservas en cada región\n",
    "\n",
    "data = {\n",
    "    'Region 1': [predictions_1.mean()],\n",
    "    'Region 2': [predictions_2.mean()],\n",
    "    'Region 3': [predictions_3.mean()],\n",
    "    'Region ideal': [111.1],\n",
    "}\n",
    "\n",
    "regiones_reservas = pd.DataFrame(data)\n",
    "regiones_reservas"
   ]
  },
  {
   "cell_type": "markdown",
   "metadata": {},
   "source": [
    "<div class=\"alert alert-block alert-success\">\n",
    "<b>Comentario del revisor</b> <a class=\"tocSkip\"></a>\n",
    "\n",
    "Bien, me gustó que presentaras la comparación en un data frame para facilitar la comparación.\n",
    "</div>"
   ]
  },
  {
   "cell_type": "markdown",
   "metadata": {},
   "source": [
    "Al comparar las medias de reservas en cada región con la media ideal de 111.1 unidades, vemos que las tres regiones están por debajo de este valor, siendo la región 2 la peor opción. La región 1 y 3 presentan medias similares, además de estar más cerca de la idónea. Acá estamos haciendo una observación general de todos los pozos, por lo que es necesario analizar más para cumplir con las condiciones que nos dan posteriormente."
   ]
  },
  {
   "cell_type": "markdown",
   "metadata": {},
   "source": [
    "<div class=\"alert alert-block alert-success\">\n",
    "<b>Comentario del revisor</b> <a class=\"tocSkip\"></a>\n",
    "\n",
    "Con estos resultados se puede ver porque se busca solo los mejores pozos.\n",
    "</div>"
   ]
  },
  {
   "cell_type": "code",
   "execution_count": 20,
   "metadata": {},
   "outputs": [],
   "source": [
    "# cómo preparar el paso para calcular el beneficio.\n",
    "\n",
    "ingreso_por_barril = 4.5  # ingresos por barril en dólares\n",
    "ingreso_por_unidad = 4500 # el volumen de reservas está expresado en miles de barriles\n",
    "top_pozos_region_1 = predictions_1.nlargest(200)\n",
    "inversion_total = 100_000_000 # presupuesto para el desarrollo de 200 pozos petroleros\n",
    "\n",
    "# Formula para hallar el beneficio de cada pozo por region\n",
    "\n",
    "ingresos_region = (top_pozos_region_1 * ingreso_por_barril * 1000) - inversion_total"
   ]
  },
  {
   "cell_type": "markdown",
   "metadata": {},
   "source": [
    "Para calcular el beneficio por región, primero debemos hallar los 200 pozos con mayores reservas de cada región según lo predecido por los modelos de regresión lineal elaborados,de preferencia estas reservas deberían ser mayor a 111.1 unidades, así como generar un beneficio mínimo de 500,000 dólares para ser considerado rentable y evitar pérdidas.\n",
    "\n",
    "Se sabe que una unidad genera 4500 dólares, por lo tanto para hallar el ingreso de cada pozo, solo multiplicaríamos el volumen de cada reserva (los 200 pozos con unidades mayores a 111.1) * el precio de cada barril (4.5) * 1000 \n",
    ",o  multiplicado con el precio por unidad (4500.00), que es lo mismo, solo expresado en diferentes unidades.\n",
    "\n",
    "Para hallar los ingresos totales por región, es necesario restar el presupuesto para el desarrollo de los 200 pozos petroleros seleecionados, lo cual son 100 millones de dólares."
   ]
  },
  {
   "cell_type": "markdown",
   "metadata": {},
   "source": [
    "## Escribe una función para calcular la ganancia de un conjunto de pozos de petróleo seleccionados y modela las predicciones:"
   ]
  },
  {
   "cell_type": "markdown",
   "metadata": {},
   "source": [
    "Elige los 200 pozos con los valores de predicción más altos de cada una de las 3 regiones (es decir, archivos 'csv').\n",
    "Resume el volumen objetivo de reservas según dichas predicciones. Almacena las predicciones para los 200 pozos para cada una de las 3 regiones.\n",
    "Calcula la ganancia potencial de los 200 pozos principales por región. Presenta tus conclusiones: propón una región para el desarrollo de pozos petrolíferos y justifica tu elección.\n",
    "\n",
    "- El presupuesto para el desarrollo de 200 pozos petroleros es de 100 millones de dólares.\n",
    "- Un barril de materias primas genera 4.5 USD de ingresos. El ingreso de una unidad de producto es de 4500 dólares (el volumen de reservas está expresado en miles de barriles)."
   ]
  },
  {
   "cell_type": "code",
   "execution_count": 21,
   "metadata": {},
   "outputs": [],
   "source": [
    "def beneficio(predictions_df):\n",
    "    top_200 = predictions_df.nlargest(n=200)\n",
    "    suma_region = top_200.sum() \n",
    "    beneficio_total = (suma_region * 4500) - 100000000\n",
    "    return beneficio_total  "
   ]
  },
  {
   "cell_type": "code",
   "execution_count": 22,
   "metadata": {
    "scrolled": true
   },
   "outputs": [
    {
     "data": {
      "text/plain": [
       "39960488.77465129"
      ]
     },
     "execution_count": 22,
     "metadata": {},
     "output_type": "execute_result"
    }
   ],
   "source": [
    "top_region1 = beneficio(predictions_1)\n",
    "top_region1"
   ]
  },
  {
   "cell_type": "code",
   "execution_count": 23,
   "metadata": {},
   "outputs": [
    {
     "data": {
      "text/plain": [
       "24857120.51973541"
      ]
     },
     "execution_count": 23,
     "metadata": {},
     "output_type": "execute_result"
    }
   ],
   "source": [
    "top_region2 = beneficio(predictions_2)\n",
    "top_region2"
   ]
  },
  {
   "cell_type": "code",
   "execution_count": 24,
   "metadata": {},
   "outputs": [
    {
     "data": {
      "text/plain": [
       "33217543.962432563"
      ]
     },
     "execution_count": 24,
     "metadata": {},
     "output_type": "execute_result"
    }
   ],
   "source": [
    "top_region3 = beneficio(predictions_3)\n",
    "top_region3"
   ]
  },
  {
   "cell_type": "markdown",
   "metadata": {},
   "source": [
    "<div class=\"alert alert-block alert-success\">\n",
    "<b>Comentario del revisor</b> <a class=\"tocSkip\"></a>\n",
    "\n",
    "La función es correcta.\n",
    "</div>"
   ]
  },
  {
   "cell_type": "markdown",
   "metadata": {},
   "source": [
    "La región 1 tiene la suma más alta con 40 millones de dólares aproximadamente, lo que sugiere que esta región podría tener los pozos más productivos en términos de valor.\n",
    "La región 3 sigue de cerca con 33 millones de dólares, lo que también indica una buena capacidad productiva.\n",
    "La región 2 tiene la suma más baja con 24 millones de dólares lo que podría indicar que sus pozos son menos productivos o que hay menos pozos de gran valor.\n",
    "\n",
    "La región 1, al tener la mayor suma, podría ser vista como la más prometedora en términos de desarrollo de recursos. Esto podría implicar que la inversión en esta región podría ofrecer un mejor retorno."
   ]
  },
  {
   "cell_type": "markdown",
   "metadata": {},
   "source": [
    "## Calcula riesgos y ganancias para cada región:"
   ]
  },
  {
   "cell_type": "markdown",
   "metadata": {},
   "source": [
    "Utilizando las predicciones que almacenaste en el paso 4.2, emplea la técnica del bootstrapping con 1000 muestras para hallar la distribución de los beneficios.\n",
    "Encuentra el beneficio promedio, el intervalo de confianza del 95% y el riesgo de pérdidas. La pérdida es una ganancia negativa, calcúlala como una probabilidad y luego exprésala como un porcentaje.\n",
    "Presenta tus conclusiones: propón una región para el desarrollo de pozos petrolíferos y justifica tu elección. ¿Coincide tu elección con la elección anterior en el punto 4.3?\n",
    "\n",
    "- Al explorar la región, se lleva a cabo un estudio de 500 puntos con la selección de los mejores 200 puntos para el cálculo del beneficio.\n",
    "\n",
    "- Después de la evaluación de riesgo, mantén solo las regiones con riesgo de pérdidas inferior al 2.5%. De las que se ajustan a los criterios, se debe seleccionar la región con el beneficio promedio más alto."
   ]
  },
  {
   "cell_type": "code",
   "execution_count": 25,
   "metadata": {},
   "outputs": [],
   "source": [
    "state = np.random.RandomState(12345)\n",
    "\n",
    "def bootstrapping(beneficios,n_iter=1000):\n",
    "    bootstrapped_total = []\n",
    "    for i in range(n_iter):\n",
    "        pozos_select = beneficios.sample(n=500, replace=True, random_state=state)\n",
    "        top_200_500 = beneficio(pozos_select)\n",
    "        bootstrapped_total.append(top_200_500)\n",
    "    bootstrapped_total = pd.Series(bootstrapped_total)\n",
    "    return bootstrapped_total"
   ]
  },
  {
   "cell_type": "markdown",
   "metadata": {},
   "source": [
    "<div class=\"alert alert-block alert-success\">\n",
    "<b>Comentario del revisor</b> <a class=\"tocSkip\"></a>\n",
    "\n",
    "¡Excelente! El boostrap se itera correctamente y se obtienen los mejores 200 pozos de los 500 de la submuestra de cada iteración, buen trabajo.\n",
    "</div>"
   ]
  },
  {
   "cell_type": "code",
   "execution_count": 26,
   "metadata": {
    "scrolled": true
   },
   "outputs": [],
   "source": [
    "# beneficio total de la region a partir de los 200 mejores por muestra escogidas de 500 pozos con las 1000 iteraciones\n",
    "beneficio_region1 = bootstrapping(predictions_1)\n",
    "beneficio_region2 = bootstrapping(predictions_2)\n",
    "beneficio_region3 = bootstrapping(predictions_3)"
   ]
  },
  {
   "cell_type": "code",
   "execution_count": 27,
   "metadata": {},
   "outputs": [],
   "source": [
    "def calcular_metricas(beneficios_muestra):\n",
    "      \n",
    "    # Calcular beneficio promedio\n",
    "    beneficio_promedio = np.mean(beneficios_muestra)\n",
    "    \n",
    "    # Calcular intervalo de confianza del 95%\n",
    "    intervalo_confianza = np.percentile(beneficios_muestra, [2.5, 97.5])\n",
    "    \n",
    "    # Calcular riesgo de pérdidas\n",
    "    riesgo_perdidas = np.mean(beneficios_muestra < 0) * 100  # Porcentaje de muestras con beneficios negativos\n",
    "    \n",
    "    return beneficio_promedio, intervalo_confianza, riesgo_perdidas"
   ]
  },
  {
   "cell_type": "code",
   "execution_count": 28,
   "metadata": {},
   "outputs": [
    {
     "name": "stdout",
     "output_type": "stream",
     "text": [
      "Beneficio Promedio: 3580260.54\n",
      "Intervalo de Confianza (95%): [1401373.36, 5988772.71]\n",
      "Riesgo de Pérdidas: 0.10%\n"
     ]
    }
   ],
   "source": [
    "bpromedio_1, intervalo_confianza_1, riesgo_perdidas_1 = calcular_metricas(beneficio_region1)\n",
    "\n",
    "print(f\"Beneficio Promedio: {bpromedio_1:.2f}\")\n",
    "print(f\"Intervalo de Confianza (95%): [{intervalo_confianza_1[0]:.2f}, {intervalo_confianza_1[1]:.2f}]\")\n",
    "print(f\"Riesgo de Pérdidas: {riesgo_perdidas_1:.2f}%\")"
   ]
  },
  {
   "cell_type": "code",
   "execution_count": 29,
   "metadata": {
    "scrolled": true
   },
   "outputs": [
    {
     "name": "stdout",
     "output_type": "stream",
     "text": [
      "Beneficio Promedio: 4591672.84\n",
      "Intervalo de Confianza (95%): [760478.23, 8616321.30]\n",
      "Riesgo de Pérdidas: 0.80%\n"
     ]
    }
   ],
   "source": [
    "bpromedio_2, intervalo_confianza_2, riesgo_perdidas_2 = calcular_metricas(beneficio_region2)\n",
    "\n",
    "print(f\"Beneficio Promedio: {bpromedio_2:.2f}\")\n",
    "print(f\"Intervalo de Confianza (95%): [{intervalo_confianza_2[0]:.2f}, {intervalo_confianza_2[1]:.2f}]\")\n",
    "print(f\"Riesgo de Pérdidas: {riesgo_perdidas_2:.2f}%\")"
   ]
  },
  {
   "cell_type": "code",
   "execution_count": 30,
   "metadata": {
    "scrolled": true
   },
   "outputs": [
    {
     "name": "stdout",
     "output_type": "stream",
     "text": [
      "Beneficio Promedio: 2717422.04\n",
      "Intervalo de Confianza (95%): [911157.07, 4522088.83]\n",
      "Riesgo de Pérdidas: 0.10%\n"
     ]
    }
   ],
   "source": [
    "bpromedio_3, intervalo_confianza_3, riesgo_perdidas_3 = calcular_metricas(beneficio_region3)\n",
    "\n",
    "print(f\"Beneficio Promedio: {bpromedio_3:.2f}\")\n",
    "print(f\"Intervalo de Confianza (95%): [{intervalo_confianza_3[0]:.2f}, {intervalo_confianza_3[1]:.2f}]\")\n",
    "print(f\"Riesgo de Pérdidas: {riesgo_perdidas_3:.2f}%\")"
   ]
  },
  {
   "cell_type": "markdown",
   "metadata": {},
   "source": [
    "<div class=\"alert alert-block alert-success\">\n",
    "<b>Comentario del revisor</b> <a class=\"tocSkip\"></a>\n",
    "\n",
    "Buen resumen usando los prints para cada una de las regiones.\n",
    "</div>"
   ]
  },
  {
   "cell_type": "markdown",
   "metadata": {},
   "source": [
    " - Presenta tus conclusiones: propón una región para el desarrollo de pozos petrolíferos y justifica tu elección. ¿Coincide tu elección con la elección anterior en el punto 4.3?\n",
    " \n",
    "- Condiciones del proyecto: después de la evaluación de riesgo, mantén solo las regiones con riesgo de pérdidas inferior al 2.5%. De las que se ajustan a los criterios, se debe seleccionar la región con el beneficio promedio más alto.\n",
    "\n",
    "De acuerdo a la evaluación de rieso, las tres regiones cumplen la condición. El beneficio promedio más alto lo tiene la región 2, siguiendolo la región 1 y finalmente la región 3. Si sólo nos enfocamos en lo mencionado anteriormente la región 2 sería la elegida, sin embargo elijo la región 1 por las siguientes razones:\n",
    "\n",
    "- El riesgo de pérdida de la región 1 (0.1%) es mucho menor que la región 2 (0.8%).\n",
    "- Es cierto que la región 2 tiene un beneficio promedio mayor a la región 1, sim embargo deberíamos observar cual es el rango del intervalo para ambos beneficio promedio. La distancia del promedio con los rangos del intervalo de la región 1 es mucho menor a la de la región 2, por lo tanto hay menos variabilidad en la distribución de los datos de las muestras aleatorias.\n",
    "\n",
    "Por lo tanto la región 1, es la mejor opción que cumple con las condiciones del proyectos para obtener la mejor rentabilidad."
   ]
  },
  {
   "cell_type": "markdown",
   "metadata": {},
   "source": [
    "<div class=\"alert alert-block alert-success\">\n",
    "<b>Comentario del revisor</b> <a class=\"tocSkip\"></a>\n",
    "\n",
    "¡Hola! \n",
    "    \n",
    "Te quiero felicitar por tu trabajo, está muy completo y bien realizado. Me gustó que el bootstrap tiene la lógica correcta en la iteración y obtuviste adecuadamente las probabilidades de riesgo de pérdida. Bien, puedo aprobar tu trabajo, éxito en los siguientes sprints.\n",
    "    \n",
    "Saludos, Marcos.\n",
    "</div>"
   ]
  },
  {
   "cell_type": "code",
   "execution_count": null,
   "metadata": {},
   "outputs": [],
   "source": []
  }
 ],
 "metadata": {
  "ExecuteTimeLog": [
   {
    "duration": 174,
    "start_time": "2024-10-27T02:52:32.221Z"
   },
   {
    "duration": 2808,
    "start_time": "2024-10-27T02:52:36.155Z"
   },
   {
    "duration": 402,
    "start_time": "2024-10-27T02:52:38.965Z"
   },
   {
    "duration": 59,
    "start_time": "2024-10-27T02:53:02.766Z"
   },
   {
    "duration": 3,
    "start_time": "2024-10-27T02:53:11.648Z"
   },
   {
    "duration": 956,
    "start_time": "2024-10-27T02:53:26.044Z"
   },
   {
    "duration": 598,
    "start_time": "2024-10-27T02:53:29.221Z"
   },
   {
    "duration": 61,
    "start_time": "2024-10-27T03:00:47.333Z"
   },
   {
    "duration": 61,
    "start_time": "2024-10-27T03:01:06.146Z"
   },
   {
    "duration": 63,
    "start_time": "2024-10-27T03:01:12.522Z"
   },
   {
    "duration": 126,
    "start_time": "2024-10-27T03:06:00.933Z"
   },
   {
    "duration": 4,
    "start_time": "2024-10-27T03:12:35.952Z"
   },
   {
    "duration": 59,
    "start_time": "2024-10-27T03:12:38.610Z"
   },
   {
    "duration": 60,
    "start_time": "2024-10-27T03:12:51.452Z"
   },
   {
    "duration": 334,
    "start_time": "2024-10-27T19:45:40.771Z"
   },
   {
    "duration": 332,
    "start_time": "2024-10-27T19:46:36.284Z"
   },
   {
    "duration": 328,
    "start_time": "2024-10-27T19:47:02.554Z"
   },
   {
    "duration": 323,
    "start_time": "2024-10-27T19:47:14.634Z"
   },
   {
    "duration": 353,
    "start_time": "2024-10-27T19:47:25.728Z"
   },
   {
    "duration": 326,
    "start_time": "2024-10-27T19:47:40.813Z"
   },
   {
    "duration": 334,
    "start_time": "2024-10-27T19:47:54.142Z"
   },
   {
    "duration": 331,
    "start_time": "2024-10-27T19:48:06.484Z"
   },
   {
    "duration": 326,
    "start_time": "2024-10-27T19:48:16.440Z"
   },
   {
    "duration": 333,
    "start_time": "2024-10-27T19:48:25.141Z"
   },
   {
    "duration": 369,
    "start_time": "2024-10-27T19:49:00.514Z"
   },
   {
    "duration": 181,
    "start_time": "2024-10-27T19:49:26.453Z"
   },
   {
    "duration": 2694,
    "start_time": "2024-10-27T19:49:40.126Z"
   },
   {
    "duration": 2783,
    "start_time": "2024-10-27T19:49:42.823Z"
   },
   {
    "duration": 38,
    "start_time": "2024-10-27T19:49:45.608Z"
   },
   {
    "duration": 32,
    "start_time": "2024-10-27T19:49:45.648Z"
   },
   {
    "duration": 45,
    "start_time": "2024-10-27T19:49:45.682Z"
   },
   {
    "duration": 9,
    "start_time": "2024-10-27T19:49:45.728Z"
   },
   {
    "duration": 31,
    "start_time": "2024-10-27T19:49:45.738Z"
   },
   {
    "duration": 8,
    "start_time": "2024-10-27T19:49:45.771Z"
   },
   {
    "duration": 252,
    "start_time": "2024-10-27T19:49:45.781Z"
   },
   {
    "duration": 0,
    "start_time": "2024-10-27T19:49:46.035Z"
   },
   {
    "duration": 0,
    "start_time": "2024-10-27T19:49:46.036Z"
   },
   {
    "duration": 0,
    "start_time": "2024-10-27T19:49:46.037Z"
   },
   {
    "duration": 0,
    "start_time": "2024-10-27T19:49:46.039Z"
   },
   {
    "duration": 0,
    "start_time": "2024-10-27T19:49:46.040Z"
   },
   {
    "duration": 1,
    "start_time": "2024-10-27T19:49:46.041Z"
   },
   {
    "duration": 15,
    "start_time": "2024-10-27T19:50:18.707Z"
   },
   {
    "duration": 144,
    "start_time": "2024-10-27T19:51:19.715Z"
   },
   {
    "duration": 3,
    "start_time": "2024-10-27T19:52:41.061Z"
   },
   {
    "duration": 6030,
    "start_time": "2024-10-27T19:52:41.066Z"
   },
   {
    "duration": 32,
    "start_time": "2024-10-27T19:52:47.097Z"
   },
   {
    "duration": 31,
    "start_time": "2024-10-27T19:52:47.131Z"
   },
   {
    "duration": 31,
    "start_time": "2024-10-27T19:52:47.164Z"
   },
   {
    "duration": 28,
    "start_time": "2024-10-27T19:52:47.197Z"
   },
   {
    "duration": 29,
    "start_time": "2024-10-27T19:52:47.227Z"
   },
   {
    "duration": 8,
    "start_time": "2024-10-27T19:52:47.258Z"
   },
   {
    "duration": 62,
    "start_time": "2024-10-27T19:52:47.267Z"
   },
   {
    "duration": 0,
    "start_time": "2024-10-27T19:52:47.330Z"
   },
   {
    "duration": 0,
    "start_time": "2024-10-27T19:52:47.332Z"
   },
   {
    "duration": 0,
    "start_time": "2024-10-27T19:52:47.333Z"
   },
   {
    "duration": 0,
    "start_time": "2024-10-27T19:52:47.334Z"
   },
   {
    "duration": 0,
    "start_time": "2024-10-27T19:52:47.335Z"
   },
   {
    "duration": 0,
    "start_time": "2024-10-27T19:52:47.336Z"
   },
   {
    "duration": 918,
    "start_time": "2024-10-27T19:52:54.140Z"
   },
   {
    "duration": 2461,
    "start_time": "2024-10-27T19:52:55.060Z"
   },
   {
    "duration": 39,
    "start_time": "2024-10-27T19:52:57.523Z"
   },
   {
    "duration": 31,
    "start_time": "2024-10-27T19:52:57.563Z"
   },
   {
    "duration": 55,
    "start_time": "2024-10-27T19:52:57.597Z"
   },
   {
    "duration": 9,
    "start_time": "2024-10-27T19:52:57.654Z"
   },
   {
    "duration": 31,
    "start_time": "2024-10-27T19:52:57.664Z"
   },
   {
    "duration": 27,
    "start_time": "2024-10-27T19:52:57.697Z"
   },
   {
    "duration": 370,
    "start_time": "2024-10-27T19:52:57.725Z"
   },
   {
    "duration": 0,
    "start_time": "2024-10-27T19:52:58.097Z"
   },
   {
    "duration": 0,
    "start_time": "2024-10-27T19:52:58.099Z"
   },
   {
    "duration": 0,
    "start_time": "2024-10-27T19:52:58.101Z"
   },
   {
    "duration": 0,
    "start_time": "2024-10-27T19:52:58.102Z"
   },
   {
    "duration": 0,
    "start_time": "2024-10-27T19:52:58.104Z"
   },
   {
    "duration": 0,
    "start_time": "2024-10-27T19:52:58.105Z"
   },
   {
    "duration": 856,
    "start_time": "2024-10-27T20:07:39.898Z"
   },
   {
    "duration": 2993,
    "start_time": "2024-10-27T20:07:40.755Z"
   },
   {
    "duration": 35,
    "start_time": "2024-10-27T20:07:43.752Z"
   },
   {
    "duration": 8,
    "start_time": "2024-10-27T20:07:43.789Z"
   },
   {
    "duration": 47,
    "start_time": "2024-10-27T20:07:43.800Z"
   },
   {
    "duration": 12,
    "start_time": "2024-10-27T20:07:43.849Z"
   },
   {
    "duration": 33,
    "start_time": "2024-10-27T20:07:43.868Z"
   },
   {
    "duration": 9,
    "start_time": "2024-10-27T20:07:43.902Z"
   },
   {
    "duration": 28,
    "start_time": "2024-10-27T20:07:43.925Z"
   },
   {
    "duration": 7,
    "start_time": "2024-10-27T20:07:43.955Z"
   },
   {
    "duration": 31,
    "start_time": "2024-10-27T20:07:43.964Z"
   },
   {
    "duration": 35,
    "start_time": "2024-10-27T20:07:43.997Z"
   },
   {
    "duration": 31,
    "start_time": "2024-10-27T20:07:44.033Z"
   },
   {
    "duration": 8,
    "start_time": "2024-10-27T20:07:44.067Z"
   },
   {
    "duration": 376,
    "start_time": "2024-10-27T20:07:44.076Z"
   },
   {
    "duration": 0,
    "start_time": "2024-10-27T20:07:44.454Z"
   },
   {
    "duration": 0,
    "start_time": "2024-10-27T20:07:44.457Z"
   },
   {
    "duration": 0,
    "start_time": "2024-10-27T20:07:44.458Z"
   },
   {
    "duration": 0,
    "start_time": "2024-10-27T20:07:44.459Z"
   },
   {
    "duration": 0,
    "start_time": "2024-10-27T20:07:44.460Z"
   },
   {
    "duration": 0,
    "start_time": "2024-10-27T20:07:44.461Z"
   },
   {
    "duration": 43,
    "start_time": "2024-10-27T20:09:28.436Z"
   },
   {
    "duration": 46,
    "start_time": "2024-10-27T20:15:15.427Z"
   },
   {
    "duration": 44,
    "start_time": "2024-10-27T20:16:57.726Z"
   },
   {
    "duration": 14,
    "start_time": "2024-10-27T20:17:22.849Z"
   },
   {
    "duration": 15,
    "start_time": "2024-10-27T20:17:33.943Z"
   },
   {
    "duration": 42,
    "start_time": "2024-10-27T20:17:43.315Z"
   },
   {
    "duration": 42,
    "start_time": "2024-10-27T20:20:08.743Z"
   },
   {
    "duration": 157,
    "start_time": "2024-10-27T20:51:05.864Z"
   },
   {
    "duration": 2632,
    "start_time": "2024-10-27T20:51:14.816Z"
   },
   {
    "duration": 2734,
    "start_time": "2024-10-27T20:51:17.451Z"
   },
   {
    "duration": 37,
    "start_time": "2024-10-27T20:51:20.187Z"
   },
   {
    "duration": 10,
    "start_time": "2024-10-27T20:51:20.226Z"
   },
   {
    "duration": 32,
    "start_time": "2024-10-27T20:51:20.239Z"
   },
   {
    "duration": 8,
    "start_time": "2024-10-27T20:51:20.272Z"
   },
   {
    "duration": 55,
    "start_time": "2024-10-27T20:51:20.282Z"
   },
   {
    "duration": 8,
    "start_time": "2024-10-27T20:51:20.339Z"
   },
   {
    "duration": 27,
    "start_time": "2024-10-27T20:51:20.349Z"
   },
   {
    "duration": 7,
    "start_time": "2024-10-27T20:51:20.378Z"
   },
   {
    "duration": 55,
    "start_time": "2024-10-27T20:51:20.387Z"
   },
   {
    "duration": 8,
    "start_time": "2024-10-27T20:51:20.443Z"
   },
   {
    "duration": 29,
    "start_time": "2024-10-27T20:51:20.453Z"
   },
   {
    "duration": 8,
    "start_time": "2024-10-27T20:51:20.486Z"
   },
   {
    "duration": 36,
    "start_time": "2024-10-27T20:51:20.495Z"
   },
   {
    "duration": 283,
    "start_time": "2024-10-27T20:51:20.532Z"
   },
   {
    "duration": 0,
    "start_time": "2024-10-27T20:51:20.817Z"
   },
   {
    "duration": 0,
    "start_time": "2024-10-27T20:51:20.817Z"
   },
   {
    "duration": 0,
    "start_time": "2024-10-27T20:51:20.818Z"
   },
   {
    "duration": 0,
    "start_time": "2024-10-27T20:51:20.818Z"
   },
   {
    "duration": 0,
    "start_time": "2024-10-27T20:51:20.819Z"
   },
   {
    "duration": 3,
    "start_time": "2024-10-27T20:51:41.803Z"
   },
   {
    "duration": 14,
    "start_time": "2024-10-27T20:53:05.946Z"
   },
   {
    "duration": 3,
    "start_time": "2024-10-27T20:53:44.666Z"
   },
   {
    "duration": 11,
    "start_time": "2024-10-27T20:54:00.280Z"
   },
   {
    "duration": 23,
    "start_time": "2024-10-27T20:55:01.863Z"
   },
   {
    "duration": 9,
    "start_time": "2024-10-27T20:55:11.763Z"
   },
   {
    "duration": 744,
    "start_time": "2024-10-28T00:05:30.875Z"
   },
   {
    "duration": 6549,
    "start_time": "2024-10-28T00:05:31.621Z"
   },
   {
    "duration": 37,
    "start_time": "2024-10-28T00:05:38.171Z"
   },
   {
    "duration": 8,
    "start_time": "2024-10-28T00:05:38.210Z"
   },
   {
    "duration": 30,
    "start_time": "2024-10-28T00:05:38.221Z"
   },
   {
    "duration": 9,
    "start_time": "2024-10-28T00:05:38.253Z"
   },
   {
    "duration": 52,
    "start_time": "2024-10-28T00:05:38.263Z"
   },
   {
    "duration": 9,
    "start_time": "2024-10-28T00:05:38.317Z"
   },
   {
    "duration": 28,
    "start_time": "2024-10-28T00:05:38.328Z"
   },
   {
    "duration": 33,
    "start_time": "2024-10-28T00:05:38.358Z"
   },
   {
    "duration": 32,
    "start_time": "2024-10-28T00:05:38.392Z"
   },
   {
    "duration": 8,
    "start_time": "2024-10-28T00:05:38.426Z"
   },
   {
    "duration": 54,
    "start_time": "2024-10-28T00:05:38.436Z"
   },
   {
    "duration": 7,
    "start_time": "2024-10-28T00:05:38.494Z"
   },
   {
    "duration": 10,
    "start_time": "2024-10-28T00:05:38.503Z"
   },
   {
    "duration": 14,
    "start_time": "2024-10-28T00:05:38.515Z"
   },
   {
    "duration": 5,
    "start_time": "2024-10-28T00:05:38.530Z"
   },
   {
    "duration": 53,
    "start_time": "2024-10-28T00:05:38.536Z"
   },
   {
    "duration": 2,
    "start_time": "2024-10-28T00:05:38.592Z"
   },
   {
    "duration": 2,
    "start_time": "2024-10-28T00:05:38.596Z"
   },
   {
    "duration": 4,
    "start_time": "2024-10-28T00:06:50.662Z"
   },
   {
    "duration": 5,
    "start_time": "2024-10-28T00:07:01.915Z"
   },
   {
    "duration": 3,
    "start_time": "2024-10-28T00:08:36.345Z"
   },
   {
    "duration": 5,
    "start_time": "2024-10-28T00:08:42.147Z"
   },
   {
    "duration": 5,
    "start_time": "2024-10-28T00:08:59.156Z"
   },
   {
    "duration": 210,
    "start_time": "2024-10-28T00:10:24.176Z"
   },
   {
    "duration": 2,
    "start_time": "2024-10-28T00:10:45.598Z"
   },
   {
    "duration": 4,
    "start_time": "2024-10-28T00:10:54.933Z"
   },
   {
    "duration": 6,
    "start_time": "2024-10-28T00:13:13.169Z"
   },
   {
    "duration": 5,
    "start_time": "2024-10-28T00:18:41.553Z"
   },
   {
    "duration": 5,
    "start_time": "2024-10-28T00:26:06.414Z"
   },
   {
    "duration": 793,
    "start_time": "2024-10-28T00:32:52.188Z"
   },
   {
    "duration": 3140,
    "start_time": "2024-10-28T00:32:52.983Z"
   },
   {
    "duration": 37,
    "start_time": "2024-10-28T00:32:56.124Z"
   },
   {
    "duration": 9,
    "start_time": "2024-10-28T00:32:56.163Z"
   },
   {
    "duration": 29,
    "start_time": "2024-10-28T00:32:56.186Z"
   },
   {
    "duration": 8,
    "start_time": "2024-10-28T00:32:56.217Z"
   },
   {
    "duration": 31,
    "start_time": "2024-10-28T00:32:56.226Z"
   },
   {
    "duration": 33,
    "start_time": "2024-10-28T00:32:56.259Z"
   },
   {
    "duration": 27,
    "start_time": "2024-10-28T00:32:56.294Z"
   },
   {
    "duration": 8,
    "start_time": "2024-10-28T00:32:56.322Z"
   },
   {
    "duration": 33,
    "start_time": "2024-10-28T00:32:56.331Z"
   },
   {
    "duration": 9,
    "start_time": "2024-10-28T00:32:56.387Z"
   },
   {
    "duration": 29,
    "start_time": "2024-10-28T00:32:56.398Z"
   },
   {
    "duration": 8,
    "start_time": "2024-10-28T00:32:56.431Z"
   },
   {
    "duration": 11,
    "start_time": "2024-10-28T00:32:56.440Z"
   },
   {
    "duration": 37,
    "start_time": "2024-10-28T00:32:56.452Z"
   },
   {
    "duration": 6,
    "start_time": "2024-10-28T00:32:56.490Z"
   },
   {
    "duration": 303,
    "start_time": "2024-10-28T00:32:56.497Z"
   },
   {
    "duration": 0,
    "start_time": "2024-10-28T00:32:56.803Z"
   },
   {
    "duration": 0,
    "start_time": "2024-10-28T00:32:56.804Z"
   },
   {
    "duration": 0,
    "start_time": "2024-10-28T00:32:56.805Z"
   },
   {
    "duration": 0,
    "start_time": "2024-10-28T00:32:56.807Z"
   },
   {
    "duration": 0,
    "start_time": "2024-10-28T00:32:56.808Z"
   },
   {
    "duration": 0,
    "start_time": "2024-10-28T00:32:56.810Z"
   },
   {
    "duration": 0,
    "start_time": "2024-10-28T00:32:56.812Z"
   },
   {
    "duration": 0,
    "start_time": "2024-10-28T00:32:56.813Z"
   },
   {
    "duration": 752,
    "start_time": "2024-10-28T00:34:41.832Z"
   },
   {
    "duration": 3061,
    "start_time": "2024-10-28T00:34:42.587Z"
   },
   {
    "duration": 42,
    "start_time": "2024-10-28T00:34:45.650Z"
   },
   {
    "duration": 9,
    "start_time": "2024-10-28T00:34:45.694Z"
   },
   {
    "duration": 29,
    "start_time": "2024-10-28T00:34:45.706Z"
   },
   {
    "duration": 8,
    "start_time": "2024-10-28T00:34:45.737Z"
   },
   {
    "duration": 59,
    "start_time": "2024-10-28T00:34:45.747Z"
   },
   {
    "duration": 9,
    "start_time": "2024-10-28T00:34:45.808Z"
   },
   {
    "duration": 27,
    "start_time": "2024-10-28T00:34:45.818Z"
   },
   {
    "duration": 8,
    "start_time": "2024-10-28T00:34:45.846Z"
   },
   {
    "duration": 60,
    "start_time": "2024-10-28T00:34:45.856Z"
   },
   {
    "duration": 8,
    "start_time": "2024-10-28T00:34:45.918Z"
   },
   {
    "duration": 29,
    "start_time": "2024-10-28T00:34:45.927Z"
   },
   {
    "duration": 26,
    "start_time": "2024-10-28T00:34:45.961Z"
   },
   {
    "duration": 10,
    "start_time": "2024-10-28T00:34:45.989Z"
   },
   {
    "duration": 14,
    "start_time": "2024-10-28T00:34:46.000Z"
   },
   {
    "duration": 4,
    "start_time": "2024-10-28T00:34:46.016Z"
   },
   {
    "duration": 65,
    "start_time": "2024-10-28T00:34:46.022Z"
   },
   {
    "duration": 18,
    "start_time": "2024-10-28T00:34:46.089Z"
   },
   {
    "duration": 4,
    "start_time": "2024-10-28T00:34:46.109Z"
   },
   {
    "duration": 0,
    "start_time": "2024-10-28T00:34:46.187Z"
   },
   {
    "duration": 0,
    "start_time": "2024-10-28T00:34:46.188Z"
   },
   {
    "duration": 0,
    "start_time": "2024-10-28T00:34:46.190Z"
   },
   {
    "duration": 0,
    "start_time": "2024-10-28T00:34:46.191Z"
   },
   {
    "duration": 0,
    "start_time": "2024-10-28T00:34:46.192Z"
   },
   {
    "duration": 0,
    "start_time": "2024-10-28T00:34:46.193Z"
   },
   {
    "duration": 214,
    "start_time": "2024-10-28T00:35:08.284Z"
   },
   {
    "duration": 0,
    "start_time": "2024-10-28T00:35:08.500Z"
   },
   {
    "duration": 14,
    "start_time": "2024-10-28T00:35:08.532Z"
   },
   {
    "duration": 0,
    "start_time": "2024-10-28T00:35:08.548Z"
   },
   {
    "duration": 0,
    "start_time": "2024-10-28T00:35:08.550Z"
   },
   {
    "duration": 0,
    "start_time": "2024-10-28T00:35:08.551Z"
   },
   {
    "duration": 0,
    "start_time": "2024-10-28T00:35:08.552Z"
   },
   {
    "duration": 744,
    "start_time": "2024-10-28T00:35:37.945Z"
   },
   {
    "duration": 2719,
    "start_time": "2024-10-28T00:35:38.691Z"
   },
   {
    "duration": 37,
    "start_time": "2024-10-28T00:35:41.412Z"
   },
   {
    "duration": 8,
    "start_time": "2024-10-28T00:35:41.452Z"
   },
   {
    "duration": 43,
    "start_time": "2024-10-28T00:35:41.462Z"
   },
   {
    "duration": 8,
    "start_time": "2024-10-28T00:35:41.507Z"
   },
   {
    "duration": 30,
    "start_time": "2024-10-28T00:35:41.517Z"
   },
   {
    "duration": 8,
    "start_time": "2024-10-28T00:35:41.549Z"
   },
   {
    "duration": 50,
    "start_time": "2024-10-28T00:35:41.559Z"
   },
   {
    "duration": 7,
    "start_time": "2024-10-28T00:35:41.612Z"
   },
   {
    "duration": 31,
    "start_time": "2024-10-28T00:35:41.621Z"
   },
   {
    "duration": 33,
    "start_time": "2024-10-28T00:35:41.653Z"
   },
   {
    "duration": 29,
    "start_time": "2024-10-28T00:35:41.688Z"
   },
   {
    "duration": 8,
    "start_time": "2024-10-28T00:35:41.719Z"
   },
   {
    "duration": 10,
    "start_time": "2024-10-28T00:35:41.729Z"
   },
   {
    "duration": 47,
    "start_time": "2024-10-28T00:35:41.740Z"
   },
   {
    "duration": 3,
    "start_time": "2024-10-28T00:35:41.789Z"
   },
   {
    "duration": 4,
    "start_time": "2024-10-28T00:35:41.794Z"
   },
   {
    "duration": 11,
    "start_time": "2024-10-28T00:35:41.800Z"
   },
   {
    "duration": 8,
    "start_time": "2024-10-28T00:35:41.887Z"
   },
   {
    "duration": 2,
    "start_time": "2024-10-28T00:35:41.897Z"
   },
   {
    "duration": 5,
    "start_time": "2024-10-28T00:35:41.901Z"
   },
   {
    "duration": 82,
    "start_time": "2024-10-28T00:35:41.911Z"
   },
   {
    "duration": 8,
    "start_time": "2024-10-28T00:35:41.996Z"
   },
   {
    "duration": 2,
    "start_time": "2024-10-28T00:35:42.005Z"
   },
   {
    "duration": 4,
    "start_time": "2024-10-28T00:35:42.009Z"
   },
   {
    "duration": 3,
    "start_time": "2024-10-28T00:56:23.571Z"
   },
   {
    "duration": 210,
    "start_time": "2024-10-28T00:56:40.289Z"
   },
   {
    "duration": 3,
    "start_time": "2024-10-28T00:56:48.282Z"
   },
   {
    "duration": 4,
    "start_time": "2024-10-28T00:56:48.960Z"
   },
   {
    "duration": 3,
    "start_time": "2024-10-28T00:57:11.805Z"
   },
   {
    "duration": 4,
    "start_time": "2024-10-28T00:57:13.048Z"
   },
   {
    "duration": 4,
    "start_time": "2024-10-28T00:57:14.282Z"
   },
   {
    "duration": 5,
    "start_time": "2024-10-28T02:01:00.036Z"
   },
   {
    "duration": 5,
    "start_time": "2024-10-28T02:05:39.556Z"
   },
   {
    "duration": 787,
    "start_time": "2024-10-31T20:06:02.364Z"
   },
   {
    "duration": 2982,
    "start_time": "2024-10-31T20:06:03.153Z"
   },
   {
    "duration": 41,
    "start_time": "2024-10-31T20:06:06.137Z"
   },
   {
    "duration": 10,
    "start_time": "2024-10-31T20:06:06.180Z"
   },
   {
    "duration": 44,
    "start_time": "2024-10-31T20:06:06.192Z"
   },
   {
    "duration": 9,
    "start_time": "2024-10-31T20:06:06.238Z"
   },
   {
    "duration": 40,
    "start_time": "2024-10-31T20:06:06.248Z"
   },
   {
    "duration": 26,
    "start_time": "2024-10-31T20:06:06.291Z"
   },
   {
    "duration": 30,
    "start_time": "2024-10-31T20:06:06.319Z"
   },
   {
    "duration": 10,
    "start_time": "2024-10-31T20:06:06.352Z"
   },
   {
    "duration": 55,
    "start_time": "2024-10-31T20:06:06.365Z"
   },
   {
    "duration": 10,
    "start_time": "2024-10-31T20:06:06.422Z"
   },
   {
    "duration": 31,
    "start_time": "2024-10-31T20:06:06.434Z"
   },
   {
    "duration": 9,
    "start_time": "2024-10-31T20:06:06.468Z"
   },
   {
    "duration": 34,
    "start_time": "2024-10-31T20:06:06.479Z"
   },
   {
    "duration": 13,
    "start_time": "2024-10-31T20:06:06.515Z"
   },
   {
    "duration": 3,
    "start_time": "2024-10-31T20:06:06.529Z"
   },
   {
    "duration": 8,
    "start_time": "2024-10-31T20:06:06.534Z"
   },
   {
    "duration": 75,
    "start_time": "2024-10-31T20:06:06.544Z"
   },
   {
    "duration": 10,
    "start_time": "2024-10-31T20:06:06.623Z"
   },
   {
    "duration": 3,
    "start_time": "2024-10-31T20:06:06.636Z"
   },
   {
    "duration": 74,
    "start_time": "2024-10-31T20:06:06.641Z"
   },
   {
    "duration": 15,
    "start_time": "2024-10-31T20:06:06.720Z"
   },
   {
    "duration": 75,
    "start_time": "2024-10-31T20:06:06.737Z"
   },
   {
    "duration": 5,
    "start_time": "2024-10-31T20:06:06.814Z"
   },
   {
    "duration": 7,
    "start_time": "2024-10-31T20:06:06.820Z"
   },
   {
    "duration": 7,
    "start_time": "2024-10-31T20:06:06.828Z"
   },
   {
    "duration": 7,
    "start_time": "2024-10-31T20:06:06.841Z"
   },
   {
    "duration": 0,
    "start_time": "2024-10-31T20:06:06.913Z"
   },
   {
    "duration": 0,
    "start_time": "2024-10-31T20:06:06.914Z"
   },
   {
    "duration": 0,
    "start_time": "2024-10-31T20:06:06.915Z"
   },
   {
    "duration": 0,
    "start_time": "2024-10-31T20:06:06.917Z"
   },
   {
    "duration": 0,
    "start_time": "2024-10-31T20:06:06.918Z"
   },
   {
    "duration": 0,
    "start_time": "2024-10-31T20:06:06.919Z"
   },
   {
    "duration": 797,
    "start_time": "2024-11-01T17:25:38.360Z"
   },
   {
    "duration": 2873,
    "start_time": "2024-11-01T17:25:39.159Z"
   },
   {
    "duration": 37,
    "start_time": "2024-11-01T17:25:42.034Z"
   },
   {
    "duration": 8,
    "start_time": "2024-11-01T17:25:42.073Z"
   },
   {
    "duration": 46,
    "start_time": "2024-11-01T17:25:42.084Z"
   },
   {
    "duration": 8,
    "start_time": "2024-11-01T17:25:42.132Z"
   },
   {
    "duration": 32,
    "start_time": "2024-11-01T17:25:42.143Z"
   },
   {
    "duration": 9,
    "start_time": "2024-11-01T17:25:42.176Z"
   },
   {
    "duration": 57,
    "start_time": "2024-11-01T17:25:42.187Z"
   },
   {
    "duration": 7,
    "start_time": "2024-11-01T17:25:42.246Z"
   },
   {
    "duration": 32,
    "start_time": "2024-11-01T17:25:42.255Z"
   },
   {
    "duration": 9,
    "start_time": "2024-11-01T17:25:42.289Z"
   },
   {
    "duration": 55,
    "start_time": "2024-11-01T17:25:42.300Z"
   },
   {
    "duration": 8,
    "start_time": "2024-11-01T17:25:42.359Z"
   },
   {
    "duration": 11,
    "start_time": "2024-11-01T17:25:42.369Z"
   },
   {
    "duration": 42,
    "start_time": "2024-11-01T17:25:42.382Z"
   },
   {
    "duration": 6,
    "start_time": "2024-11-01T17:25:42.426Z"
   },
   {
    "duration": 5,
    "start_time": "2024-11-01T17:25:42.433Z"
   },
   {
    "duration": 84,
    "start_time": "2024-11-01T17:25:42.440Z"
   },
   {
    "duration": 9,
    "start_time": "2024-11-01T17:25:42.527Z"
   },
   {
    "duration": 3,
    "start_time": "2024-11-01T17:25:42.538Z"
   },
   {
    "duration": 4,
    "start_time": "2024-11-01T17:25:42.543Z"
   },
   {
    "duration": 82,
    "start_time": "2024-11-01T17:25:42.549Z"
   },
   {
    "duration": 9,
    "start_time": "2024-11-01T17:25:42.633Z"
   },
   {
    "duration": 3,
    "start_time": "2024-11-01T17:25:42.644Z"
   },
   {
    "duration": 75,
    "start_time": "2024-11-01T17:25:42.651Z"
   },
   {
    "duration": 8,
    "start_time": "2024-11-01T17:25:42.729Z"
   },
   {
    "duration": 7,
    "start_time": "2024-11-01T17:25:42.738Z"
   },
   {
    "duration": 0,
    "start_time": "2024-11-01T17:25:42.747Z"
   },
   {
    "duration": 0,
    "start_time": "2024-11-01T17:25:42.748Z"
   },
   {
    "duration": 0,
    "start_time": "2024-11-01T17:25:42.750Z"
   },
   {
    "duration": 0,
    "start_time": "2024-11-01T17:25:42.751Z"
   },
   {
    "duration": 0,
    "start_time": "2024-11-01T17:25:42.753Z"
   },
   {
    "duration": 0,
    "start_time": "2024-11-01T17:25:42.824Z"
   },
   {
    "duration": 6,
    "start_time": "2024-11-01T17:29:36.271Z"
   },
   {
    "duration": 6,
    "start_time": "2024-11-01T17:29:46.436Z"
   },
   {
    "duration": 6,
    "start_time": "2024-11-01T17:38:13.781Z"
   },
   {
    "duration": 6,
    "start_time": "2024-11-01T17:40:08.168Z"
   },
   {
    "duration": 16,
    "start_time": "2024-11-01T17:48:14.536Z"
   },
   {
    "duration": 11,
    "start_time": "2024-11-01T17:49:04.797Z"
   },
   {
    "duration": 11,
    "start_time": "2024-11-01T17:49:39.973Z"
   },
   {
    "duration": 23,
    "start_time": "2024-11-01T17:51:03.815Z"
   },
   {
    "duration": 11,
    "start_time": "2024-11-01T17:51:24.908Z"
   },
   {
    "duration": 12,
    "start_time": "2024-11-01T17:51:29.417Z"
   },
   {
    "duration": 20,
    "start_time": "2024-11-01T17:51:44.455Z"
   },
   {
    "duration": 20,
    "start_time": "2024-11-01T17:52:19.544Z"
   },
   {
    "duration": 22,
    "start_time": "2024-11-01T17:52:48.499Z"
   },
   {
    "duration": 805,
    "start_time": "2024-11-01T17:53:08.425Z"
   },
   {
    "duration": 2996,
    "start_time": "2024-11-01T17:53:09.232Z"
   },
   {
    "duration": 39,
    "start_time": "2024-11-01T17:53:12.229Z"
   },
   {
    "duration": 8,
    "start_time": "2024-11-01T17:53:12.270Z"
   },
   {
    "duration": 44,
    "start_time": "2024-11-01T17:53:12.281Z"
   },
   {
    "duration": 8,
    "start_time": "2024-11-01T17:53:12.327Z"
   },
   {
    "duration": 32,
    "start_time": "2024-11-01T17:53:12.336Z"
   },
   {
    "duration": 9,
    "start_time": "2024-11-01T17:53:12.369Z"
   },
   {
    "duration": 54,
    "start_time": "2024-11-01T17:53:12.380Z"
   },
   {
    "duration": 9,
    "start_time": "2024-11-01T17:53:12.437Z"
   },
   {
    "duration": 34,
    "start_time": "2024-11-01T17:53:12.447Z"
   },
   {
    "duration": 9,
    "start_time": "2024-11-01T17:53:12.482Z"
   },
   {
    "duration": 58,
    "start_time": "2024-11-01T17:53:12.493Z"
   },
   {
    "duration": 8,
    "start_time": "2024-11-01T17:53:12.553Z"
   },
   {
    "duration": 20,
    "start_time": "2024-11-01T17:53:12.563Z"
   },
   {
    "duration": 140,
    "start_time": "2024-11-01T17:53:12.584Z"
   },
   {
    "duration": 96,
    "start_time": "2024-11-01T17:53:12.728Z"
   },
   {
    "duration": 4,
    "start_time": "2024-11-01T17:53:12.826Z"
   },
   {
    "duration": 7,
    "start_time": "2024-11-01T17:53:12.835Z"
   },
   {
    "duration": 0,
    "start_time": "2024-11-01T17:53:12.846Z"
   },
   {
    "duration": 0,
    "start_time": "2024-11-01T17:53:12.849Z"
   },
   {
    "duration": 0,
    "start_time": "2024-11-01T17:53:12.849Z"
   },
   {
    "duration": 0,
    "start_time": "2024-11-01T17:53:12.850Z"
   },
   {
    "duration": 0,
    "start_time": "2024-11-01T17:53:12.850Z"
   },
   {
    "duration": 0,
    "start_time": "2024-11-01T17:53:12.923Z"
   },
   {
    "duration": 777,
    "start_time": "2024-11-03T23:55:13.880Z"
   },
   {
    "duration": 3077,
    "start_time": "2024-11-03T23:55:14.659Z"
   },
   {
    "duration": 38,
    "start_time": "2024-11-03T23:55:17.739Z"
   },
   {
    "duration": 8,
    "start_time": "2024-11-03T23:55:17.779Z"
   },
   {
    "duration": 52,
    "start_time": "2024-11-03T23:55:17.790Z"
   },
   {
    "duration": 9,
    "start_time": "2024-11-03T23:55:17.844Z"
   },
   {
    "duration": 31,
    "start_time": "2024-11-03T23:55:17.855Z"
   },
   {
    "duration": 9,
    "start_time": "2024-11-03T23:55:17.888Z"
   },
   {
    "duration": 57,
    "start_time": "2024-11-03T23:55:17.899Z"
   },
   {
    "duration": 9,
    "start_time": "2024-11-03T23:55:17.958Z"
   },
   {
    "duration": 33,
    "start_time": "2024-11-03T23:55:17.969Z"
   },
   {
    "duration": 31,
    "start_time": "2024-11-03T23:55:18.003Z"
   },
   {
    "duration": 31,
    "start_time": "2024-11-03T23:55:18.035Z"
   },
   {
    "duration": 8,
    "start_time": "2024-11-03T23:55:18.070Z"
   },
   {
    "duration": 54,
    "start_time": "2024-11-03T23:55:18.079Z"
   },
   {
    "duration": 98,
    "start_time": "2024-11-03T23:55:18.134Z"
   },
   {
    "duration": 101,
    "start_time": "2024-11-03T23:55:18.234Z"
   },
   {
    "duration": 6,
    "start_time": "2024-11-03T23:55:18.337Z"
   },
   {
    "duration": 7,
    "start_time": "2024-11-03T23:55:18.345Z"
   },
   {
    "duration": 0,
    "start_time": "2024-11-03T23:55:18.354Z"
   },
   {
    "duration": 0,
    "start_time": "2024-11-03T23:55:18.355Z"
   },
   {
    "duration": 0,
    "start_time": "2024-11-03T23:55:18.357Z"
   },
   {
    "duration": 0,
    "start_time": "2024-11-03T23:55:18.358Z"
   },
   {
    "duration": 0,
    "start_time": "2024-11-03T23:55:18.359Z"
   },
   {
    "duration": 0,
    "start_time": "2024-11-03T23:55:18.360Z"
   },
   {
    "duration": 3,
    "start_time": "2024-11-03T23:57:52.338Z"
   },
   {
    "duration": 3,
    "start_time": "2024-11-04T00:33:46.110Z"
   },
   {
    "duration": 5,
    "start_time": "2024-11-04T00:33:48.811Z"
   },
   {
    "duration": 4,
    "start_time": "2024-11-04T00:33:58.762Z"
   },
   {
    "duration": 6,
    "start_time": "2024-11-04T00:38:57.929Z"
   },
   {
    "duration": 27,
    "start_time": "2024-11-04T00:44:01.743Z"
   },
   {
    "duration": 5,
    "start_time": "2024-11-04T00:44:09.842Z"
   },
   {
    "duration": 5,
    "start_time": "2024-11-04T00:44:42.824Z"
   },
   {
    "duration": 215,
    "start_time": "2024-11-04T00:51:01.440Z"
   },
   {
    "duration": 3,
    "start_time": "2024-11-04T00:51:17.070Z"
   },
   {
    "duration": 4,
    "start_time": "2024-11-04T00:51:27.575Z"
   },
   {
    "duration": 4,
    "start_time": "2024-11-04T00:51:30.301Z"
   },
   {
    "duration": 3,
    "start_time": "2024-11-04T00:52:17.448Z"
   },
   {
    "duration": 4,
    "start_time": "2024-11-04T00:52:21.640Z"
   },
   {
    "duration": 3,
    "start_time": "2024-11-04T00:52:25.177Z"
   },
   {
    "duration": 780,
    "start_time": "2024-11-04T00:54:01.878Z"
   },
   {
    "duration": 2774,
    "start_time": "2024-11-04T00:54:02.661Z"
   },
   {
    "duration": 39,
    "start_time": "2024-11-04T00:54:05.436Z"
   },
   {
    "duration": 10,
    "start_time": "2024-11-04T00:54:05.478Z"
   },
   {
    "duration": 52,
    "start_time": "2024-11-04T00:54:05.490Z"
   },
   {
    "duration": 7,
    "start_time": "2024-11-04T00:54:05.544Z"
   },
   {
    "duration": 32,
    "start_time": "2024-11-04T00:54:05.553Z"
   },
   {
    "duration": 9,
    "start_time": "2024-11-04T00:54:05.586Z"
   },
   {
    "duration": 53,
    "start_time": "2024-11-04T00:54:05.597Z"
   },
   {
    "duration": 8,
    "start_time": "2024-11-04T00:54:05.654Z"
   },
   {
    "duration": 30,
    "start_time": "2024-11-04T00:54:05.664Z"
   },
   {
    "duration": 8,
    "start_time": "2024-11-04T00:54:05.696Z"
   },
   {
    "duration": 54,
    "start_time": "2024-11-04T00:54:05.706Z"
   },
   {
    "duration": 9,
    "start_time": "2024-11-04T00:54:05.762Z"
   },
   {
    "duration": 58,
    "start_time": "2024-11-04T00:54:05.773Z"
   },
   {
    "duration": 22,
    "start_time": "2024-11-04T00:54:05.833Z"
   },
   {
    "duration": 22,
    "start_time": "2024-11-04T00:54:05.933Z"
   },
   {
    "duration": 4,
    "start_time": "2024-11-04T00:54:06.036Z"
   },
   {
    "duration": 5,
    "start_time": "2024-11-04T00:54:06.045Z"
   },
   {
    "duration": 77,
    "start_time": "2024-11-04T00:54:06.054Z"
   },
   {
    "duration": 6,
    "start_time": "2024-11-04T00:54:06.133Z"
   },
   {
    "duration": 224,
    "start_time": "2024-11-04T00:54:06.141Z"
   },
   {
    "duration": 0,
    "start_time": "2024-11-04T00:54:06.367Z"
   },
   {
    "duration": 0,
    "start_time": "2024-11-04T00:54:06.368Z"
   },
   {
    "duration": 0,
    "start_time": "2024-11-04T00:54:06.369Z"
   },
   {
    "duration": 0,
    "start_time": "2024-11-04T00:54:06.369Z"
   },
   {
    "duration": 0,
    "start_time": "2024-11-04T00:54:06.370Z"
   },
   {
    "duration": 0,
    "start_time": "2024-11-04T00:54:06.371Z"
   },
   {
    "duration": 0,
    "start_time": "2024-11-04T00:54:06.372Z"
   },
   {
    "duration": 0,
    "start_time": "2024-11-04T00:54:06.373Z"
   },
   {
    "duration": 0,
    "start_time": "2024-11-04T00:54:06.374Z"
   },
   {
    "duration": 3,
    "start_time": "2024-11-04T00:54:16.309Z"
   },
   {
    "duration": 3,
    "start_time": "2024-11-04T00:54:19.854Z"
   },
   {
    "duration": 4,
    "start_time": "2024-11-04T00:54:41.344Z"
   },
   {
    "duration": 4,
    "start_time": "2024-11-04T00:54:42.396Z"
   },
   {
    "duration": 3,
    "start_time": "2024-11-04T00:54:49.290Z"
   },
   {
    "duration": 4,
    "start_time": "2024-11-04T00:54:52.917Z"
   },
   {
    "duration": 13,
    "start_time": "2024-11-04T00:56:19.176Z"
   },
   {
    "duration": 4,
    "start_time": "2024-11-04T00:56:25.841Z"
   },
   {
    "duration": 19,
    "start_time": "2024-11-04T00:56:27.191Z"
   },
   {
    "duration": 4,
    "start_time": "2024-11-04T00:57:23.485Z"
   },
   {
    "duration": 5,
    "start_time": "2024-11-04T00:57:34.478Z"
   },
   {
    "duration": 4,
    "start_time": "2024-11-04T00:57:35.977Z"
   },
   {
    "duration": 5,
    "start_time": "2024-11-04T00:57:40.603Z"
   },
   {
    "duration": 4,
    "start_time": "2024-11-04T00:57:54.398Z"
   },
   {
    "duration": 4,
    "start_time": "2024-11-04T00:58:26.164Z"
   },
   {
    "duration": 4,
    "start_time": "2024-11-04T00:59:29.641Z"
   },
   {
    "duration": 3,
    "start_time": "2024-11-04T00:59:30.617Z"
   },
   {
    "duration": 4,
    "start_time": "2024-11-04T00:59:32.666Z"
   },
   {
    "duration": 3,
    "start_time": "2024-11-04T00:59:50.572Z"
   },
   {
    "duration": 3,
    "start_time": "2024-11-04T00:59:51.570Z"
   },
   {
    "duration": 4,
    "start_time": "2024-11-04T00:59:58.353Z"
   },
   {
    "duration": 5,
    "start_time": "2024-11-04T01:00:23.328Z"
   },
   {
    "duration": 4,
    "start_time": "2024-11-04T01:00:24.026Z"
   },
   {
    "duration": 4,
    "start_time": "2024-11-04T01:00:27.699Z"
   },
   {
    "duration": 3,
    "start_time": "2024-11-04T01:00:29.020Z"
   },
   {
    "duration": 2,
    "start_time": "2024-11-04T01:01:00.478Z"
   },
   {
    "duration": 13,
    "start_time": "2024-11-04T01:01:27.480Z"
   },
   {
    "duration": 2,
    "start_time": "2024-11-04T01:01:35.411Z"
   },
   {
    "duration": 3,
    "start_time": "2024-11-04T01:01:36.221Z"
   },
   {
    "duration": 14,
    "start_time": "2024-11-04T01:03:00.822Z"
   },
   {
    "duration": 3,
    "start_time": "2024-11-04T01:03:06.551Z"
   },
   {
    "duration": 2,
    "start_time": "2024-11-04T01:03:07.608Z"
   },
   {
    "duration": 3,
    "start_time": "2024-11-04T01:03:19.279Z"
   },
   {
    "duration": 775,
    "start_time": "2024-11-04T01:04:08.570Z"
   },
   {
    "duration": 2865,
    "start_time": "2024-11-04T01:04:09.348Z"
   },
   {
    "duration": 42,
    "start_time": "2024-11-04T01:04:12.215Z"
   },
   {
    "duration": 9,
    "start_time": "2024-11-04T01:04:12.260Z"
   },
   {
    "duration": 34,
    "start_time": "2024-11-04T01:04:12.271Z"
   },
   {
    "duration": 31,
    "start_time": "2024-11-04T01:04:12.307Z"
   },
   {
    "duration": 33,
    "start_time": "2024-11-04T01:04:12.340Z"
   },
   {
    "duration": 9,
    "start_time": "2024-11-04T01:04:12.375Z"
   },
   {
    "duration": 53,
    "start_time": "2024-11-04T01:04:12.386Z"
   },
   {
    "duration": 8,
    "start_time": "2024-11-04T01:04:12.443Z"
   },
   {
    "duration": 33,
    "start_time": "2024-11-04T01:04:12.452Z"
   },
   {
    "duration": 10,
    "start_time": "2024-11-04T01:04:12.487Z"
   },
   {
    "duration": 57,
    "start_time": "2024-11-04T01:04:12.498Z"
   },
   {
    "duration": 8,
    "start_time": "2024-11-04T01:04:12.558Z"
   },
   {
    "duration": 23,
    "start_time": "2024-11-04T01:04:12.568Z"
   },
   {
    "duration": 54,
    "start_time": "2024-11-04T01:04:12.593Z"
   },
   {
    "duration": 102,
    "start_time": "2024-11-04T01:04:12.649Z"
   },
   {
    "duration": 79,
    "start_time": "2024-11-04T01:04:12.755Z"
   },
   {
    "duration": 6,
    "start_time": "2024-11-04T01:04:12.838Z"
   },
   {
    "duration": 5,
    "start_time": "2024-11-04T01:04:12.847Z"
   },
   {
    "duration": 4,
    "start_time": "2024-11-04T01:04:12.853Z"
   },
   {
    "duration": 3,
    "start_time": "2024-11-04T01:04:12.859Z"
   },
   {
    "duration": 67,
    "start_time": "2024-11-04T01:04:12.864Z"
   },
   {
    "duration": 4,
    "start_time": "2024-11-04T01:04:12.933Z"
   },
   {
    "duration": 4,
    "start_time": "2024-11-04T01:04:12.939Z"
   },
   {
    "duration": 4,
    "start_time": "2024-11-04T01:04:12.944Z"
   },
   {
    "duration": 0,
    "start_time": "2024-11-04T01:04:12.950Z"
   },
   {
    "duration": 0,
    "start_time": "2024-11-04T01:04:12.952Z"
   },
   {
    "duration": 0,
    "start_time": "2024-11-04T01:04:12.953Z"
   },
   {
    "duration": 0,
    "start_time": "2024-11-04T01:04:12.955Z"
   },
   {
    "duration": 0,
    "start_time": "2024-11-04T01:04:12.956Z"
   },
   {
    "duration": 0,
    "start_time": "2024-11-04T01:04:12.957Z"
   },
   {
    "duration": 4,
    "start_time": "2024-11-04T01:04:19.904Z"
   },
   {
    "duration": 3,
    "start_time": "2024-11-04T01:04:25.497Z"
   },
   {
    "duration": 3,
    "start_time": "2024-11-04T01:12:39.505Z"
   },
   {
    "duration": 4,
    "start_time": "2024-11-04T01:12:41.276Z"
   },
   {
    "duration": 796,
    "start_time": "2024-11-04T01:16:46.668Z"
   },
   {
    "duration": 2975,
    "start_time": "2024-11-04T01:16:47.467Z"
   },
   {
    "duration": 37,
    "start_time": "2024-11-04T01:16:50.444Z"
   },
   {
    "duration": 9,
    "start_time": "2024-11-04T01:16:50.483Z"
   },
   {
    "duration": 47,
    "start_time": "2024-11-04T01:16:50.495Z"
   },
   {
    "duration": 8,
    "start_time": "2024-11-04T01:16:50.543Z"
   },
   {
    "duration": 32,
    "start_time": "2024-11-04T01:16:50.553Z"
   },
   {
    "duration": 9,
    "start_time": "2024-11-04T01:16:50.587Z"
   },
   {
    "duration": 57,
    "start_time": "2024-11-04T01:16:50.598Z"
   },
   {
    "duration": 8,
    "start_time": "2024-11-04T01:16:50.657Z"
   },
   {
    "duration": 32,
    "start_time": "2024-11-04T01:16:50.666Z"
   },
   {
    "duration": 8,
    "start_time": "2024-11-04T01:16:50.700Z"
   },
   {
    "duration": 31,
    "start_time": "2024-11-04T01:16:50.730Z"
   },
   {
    "duration": 8,
    "start_time": "2024-11-04T01:16:50.765Z"
   },
   {
    "duration": 20,
    "start_time": "2024-11-04T01:16:50.775Z"
   },
   {
    "duration": 22,
    "start_time": "2024-11-04T01:16:50.832Z"
   },
   {
    "duration": 94,
    "start_time": "2024-11-04T01:16:50.855Z"
   },
   {
    "duration": 2,
    "start_time": "2024-11-04T01:16:50.951Z"
   },
   {
    "duration": 5,
    "start_time": "2024-11-04T01:16:51.032Z"
   },
   {
    "duration": 8,
    "start_time": "2024-11-04T01:16:51.039Z"
   },
   {
    "duration": 3,
    "start_time": "2024-11-04T01:16:51.049Z"
   },
   {
    "duration": 3,
    "start_time": "2024-11-04T01:16:51.054Z"
   },
   {
    "duration": 2,
    "start_time": "2024-11-04T01:16:51.059Z"
   },
   {
    "duration": 69,
    "start_time": "2024-11-04T01:16:51.063Z"
   },
   {
    "duration": 4,
    "start_time": "2024-11-04T01:16:51.134Z"
   },
   {
    "duration": 4,
    "start_time": "2024-11-04T01:16:51.140Z"
   },
   {
    "duration": 3,
    "start_time": "2024-11-04T01:16:51.145Z"
   },
   {
    "duration": 0,
    "start_time": "2024-11-04T01:16:51.150Z"
   },
   {
    "duration": 5,
    "start_time": "2024-11-04T01:57:38.334Z"
   },
   {
    "duration": 5,
    "start_time": "2024-11-04T01:58:05.556Z"
   },
   {
    "duration": 5,
    "start_time": "2024-11-04T01:58:38.192Z"
   },
   {
    "duration": 3,
    "start_time": "2024-11-04T01:58:49.447Z"
   },
   {
    "duration": 8,
    "start_time": "2024-11-04T02:06:17.780Z"
   },
   {
    "duration": 5,
    "start_time": "2024-11-04T02:14:17.275Z"
   },
   {
    "duration": 4,
    "start_time": "2024-11-04T02:22:06.554Z"
   },
   {
    "duration": 3,
    "start_time": "2024-11-04T02:22:24.148Z"
   },
   {
    "duration": 5,
    "start_time": "2024-11-04T02:22:47.965Z"
   },
   {
    "duration": 5,
    "start_time": "2024-11-04T02:23:23.352Z"
   },
   {
    "duration": 4,
    "start_time": "2024-11-04T02:24:21.700Z"
   },
   {
    "duration": 4,
    "start_time": "2024-11-04T02:24:27.011Z"
   },
   {
    "duration": 4,
    "start_time": "2024-11-04T02:24:32.836Z"
   },
   {
    "duration": 6,
    "start_time": "2024-11-04T03:05:00.512Z"
   },
   {
    "duration": 6,
    "start_time": "2024-11-04T03:05:08.498Z"
   },
   {
    "duration": 4,
    "start_time": "2024-11-04T03:06:09.468Z"
   },
   {
    "duration": 2135,
    "start_time": "2024-11-04T03:06:25.838Z"
   },
   {
    "duration": 340,
    "start_time": "2024-11-04T03:07:07.906Z"
   },
   {
    "duration": 110,
    "start_time": "2024-11-04T03:07:43.887Z"
   },
   {
    "duration": 6,
    "start_time": "2024-11-04T03:08:22.749Z"
   },
   {
    "duration": 113,
    "start_time": "2024-11-04T03:08:24.769Z"
   },
   {
    "duration": 114,
    "start_time": "2024-11-04T03:08:27.746Z"
   },
   {
    "duration": 116,
    "start_time": "2024-11-04T03:08:31.102Z"
   },
   {
    "duration": 3,
    "start_time": "2024-11-04T03:10:07.948Z"
   },
   {
    "duration": 7,
    "start_time": "2024-11-04T03:10:20.412Z"
   },
   {
    "duration": 161,
    "start_time": "2024-11-04T04:24:57.917Z"
   },
   {
    "duration": 760,
    "start_time": "2024-11-04T04:25:06.285Z"
   },
   {
    "duration": 3443,
    "start_time": "2024-11-04T04:25:07.047Z"
   },
   {
    "duration": 46,
    "start_time": "2024-11-04T04:25:10.491Z"
   },
   {
    "duration": 8,
    "start_time": "2024-11-04T04:25:10.539Z"
   },
   {
    "duration": 30,
    "start_time": "2024-11-04T04:25:10.549Z"
   },
   {
    "duration": 8,
    "start_time": "2024-11-04T04:25:10.581Z"
   },
   {
    "duration": 55,
    "start_time": "2024-11-04T04:25:10.591Z"
   },
   {
    "duration": 9,
    "start_time": "2024-11-04T04:25:10.647Z"
   },
   {
    "duration": 27,
    "start_time": "2024-11-04T04:25:10.658Z"
   },
   {
    "duration": 8,
    "start_time": "2024-11-04T04:25:10.689Z"
   },
   {
    "duration": 56,
    "start_time": "2024-11-04T04:25:10.698Z"
   },
   {
    "duration": 8,
    "start_time": "2024-11-04T04:25:10.756Z"
   },
   {
    "duration": 29,
    "start_time": "2024-11-04T04:25:10.765Z"
   },
   {
    "duration": 30,
    "start_time": "2024-11-04T04:25:10.796Z"
   },
   {
    "duration": 20,
    "start_time": "2024-11-04T04:25:10.828Z"
   },
   {
    "duration": 77,
    "start_time": "2024-11-04T04:25:10.849Z"
   },
   {
    "duration": 98,
    "start_time": "2024-11-04T04:25:10.928Z"
   },
   {
    "duration": 3,
    "start_time": "2024-11-04T04:25:11.028Z"
   },
   {
    "duration": 6,
    "start_time": "2024-11-04T04:25:11.033Z"
   },
   {
    "duration": 82,
    "start_time": "2024-11-04T04:25:11.041Z"
   },
   {
    "duration": 0,
    "start_time": "2024-11-04T04:25:11.126Z"
   },
   {
    "duration": 0,
    "start_time": "2024-11-04T04:25:11.127Z"
   },
   {
    "duration": 0,
    "start_time": "2024-11-04T04:25:11.129Z"
   },
   {
    "duration": 0,
    "start_time": "2024-11-04T04:25:11.130Z"
   },
   {
    "duration": 0,
    "start_time": "2024-11-04T04:25:11.131Z"
   },
   {
    "duration": 0,
    "start_time": "2024-11-04T04:25:11.133Z"
   },
   {
    "duration": 0,
    "start_time": "2024-11-04T04:25:11.134Z"
   },
   {
    "duration": 0,
    "start_time": "2024-11-04T04:25:11.136Z"
   },
   {
    "duration": 0,
    "start_time": "2024-11-04T04:25:11.138Z"
   },
   {
    "duration": 0,
    "start_time": "2024-11-04T04:25:11.139Z"
   },
   {
    "duration": 0,
    "start_time": "2024-11-04T04:25:11.141Z"
   },
   {
    "duration": 0,
    "start_time": "2024-11-04T04:25:11.142Z"
   },
   {
    "duration": 0,
    "start_time": "2024-11-04T04:25:11.143Z"
   },
   {
    "duration": 0,
    "start_time": "2024-11-04T04:25:11.144Z"
   },
   {
    "duration": 0,
    "start_time": "2024-11-04T04:25:11.145Z"
   },
   {
    "duration": 0,
    "start_time": "2024-11-04T04:25:11.146Z"
   },
   {
    "duration": 4,
    "start_time": "2024-11-04T04:25:24.435Z"
   },
   {
    "duration": 4,
    "start_time": "2024-11-04T04:26:18.958Z"
   },
   {
    "duration": 5,
    "start_time": "2024-11-04T04:28:12.457Z"
   },
   {
    "duration": 4,
    "start_time": "2024-11-04T04:28:37.460Z"
   },
   {
    "duration": 5,
    "start_time": "2024-11-04T04:36:48.466Z"
   },
   {
    "duration": 10,
    "start_time": "2024-11-04T04:36:54.986Z"
   },
   {
    "duration": 242,
    "start_time": "2024-11-04T04:40:27.282Z"
   },
   {
    "duration": 14,
    "start_time": "2024-11-04T04:41:06.984Z"
   },
   {
    "duration": 11,
    "start_time": "2024-11-04T04:42:02.945Z"
   },
   {
    "duration": 4,
    "start_time": "2024-11-04T04:42:41.694Z"
   },
   {
    "duration": 738,
    "start_time": "2024-11-04T05:07:01.694Z"
   },
   {
    "duration": 2602,
    "start_time": "2024-11-04T05:07:02.434Z"
   },
   {
    "duration": 38,
    "start_time": "2024-11-04T05:07:05.038Z"
   },
   {
    "duration": 9,
    "start_time": "2024-11-04T05:07:05.078Z"
   },
   {
    "duration": 46,
    "start_time": "2024-11-04T05:07:05.091Z"
   },
   {
    "duration": 9,
    "start_time": "2024-11-04T05:07:05.139Z"
   },
   {
    "duration": 32,
    "start_time": "2024-11-04T05:07:05.150Z"
   },
   {
    "duration": 9,
    "start_time": "2024-11-04T05:07:05.184Z"
   },
   {
    "duration": 53,
    "start_time": "2024-11-04T05:07:05.195Z"
   },
   {
    "duration": 8,
    "start_time": "2024-11-04T05:07:05.250Z"
   },
   {
    "duration": 32,
    "start_time": "2024-11-04T05:07:05.260Z"
   },
   {
    "duration": 33,
    "start_time": "2024-11-04T05:07:05.294Z"
   },
   {
    "duration": 29,
    "start_time": "2024-11-04T05:07:05.328Z"
   },
   {
    "duration": 7,
    "start_time": "2024-11-04T05:07:05.361Z"
   },
   {
    "duration": 54,
    "start_time": "2024-11-04T05:07:05.370Z"
   },
   {
    "duration": 99,
    "start_time": "2024-11-04T05:07:05.427Z"
   },
   {
    "duration": 105,
    "start_time": "2024-11-04T05:07:05.528Z"
   },
   {
    "duration": 4,
    "start_time": "2024-11-04T05:07:05.634Z"
   },
   {
    "duration": 15,
    "start_time": "2024-11-04T05:07:05.639Z"
   },
   {
    "duration": 8,
    "start_time": "2024-11-04T05:07:05.726Z"
   },
   {
    "duration": 7,
    "start_time": "2024-11-04T05:07:05.735Z"
   },
   {
    "duration": 0,
    "start_time": "2024-11-04T05:07:05.745Z"
   },
   {
    "duration": 0,
    "start_time": "2024-11-04T05:07:05.747Z"
   },
   {
    "duration": 0,
    "start_time": "2024-11-04T05:07:05.748Z"
   },
   {
    "duration": 0,
    "start_time": "2024-11-04T05:07:05.750Z"
   },
   {
    "duration": 0,
    "start_time": "2024-11-04T05:07:05.751Z"
   },
   {
    "duration": 0,
    "start_time": "2024-11-04T05:07:05.753Z"
   },
   {
    "duration": 0,
    "start_time": "2024-11-04T05:07:05.754Z"
   },
   {
    "duration": 0,
    "start_time": "2024-11-04T05:07:05.756Z"
   },
   {
    "duration": 0,
    "start_time": "2024-11-04T05:07:05.757Z"
   },
   {
    "duration": 0,
    "start_time": "2024-11-04T05:07:05.759Z"
   },
   {
    "duration": 0,
    "start_time": "2024-11-04T05:07:05.760Z"
   },
   {
    "duration": 0,
    "start_time": "2024-11-04T05:07:05.761Z"
   },
   {
    "duration": 0,
    "start_time": "2024-11-04T05:07:05.763Z"
   },
   {
    "duration": 0,
    "start_time": "2024-11-04T05:07:05.764Z"
   },
   {
    "duration": 0,
    "start_time": "2024-11-04T05:07:05.766Z"
   },
   {
    "duration": 0,
    "start_time": "2024-11-04T05:07:05.767Z"
   },
   {
    "duration": 7,
    "start_time": "2024-11-04T05:21:45.360Z"
   },
   {
    "duration": 4,
    "start_time": "2024-11-04T05:21:48.803Z"
   },
   {
    "duration": 802,
    "start_time": "2024-11-04T05:22:01.966Z"
   },
   {
    "duration": 2918,
    "start_time": "2024-11-04T05:22:02.771Z"
   },
   {
    "duration": 47,
    "start_time": "2024-11-04T05:22:05.691Z"
   },
   {
    "duration": 13,
    "start_time": "2024-11-04T05:22:05.740Z"
   },
   {
    "duration": 39,
    "start_time": "2024-11-04T05:22:05.756Z"
   },
   {
    "duration": 10,
    "start_time": "2024-11-04T05:22:05.800Z"
   },
   {
    "duration": 31,
    "start_time": "2024-11-04T05:22:05.825Z"
   },
   {
    "duration": 9,
    "start_time": "2024-11-04T05:22:05.857Z"
   },
   {
    "duration": 37,
    "start_time": "2024-11-04T05:22:05.867Z"
   },
   {
    "duration": 24,
    "start_time": "2024-11-04T05:22:05.907Z"
   },
   {
    "duration": 39,
    "start_time": "2024-11-04T05:22:05.933Z"
   },
   {
    "duration": 9,
    "start_time": "2024-11-04T05:22:05.973Z"
   },
   {
    "duration": 59,
    "start_time": "2024-11-04T05:22:05.984Z"
   },
   {
    "duration": 8,
    "start_time": "2024-11-04T05:22:06.044Z"
   },
   {
    "duration": 23,
    "start_time": "2024-11-04T05:22:06.054Z"
   },
   {
    "duration": 76,
    "start_time": "2024-11-04T05:22:06.079Z"
   },
   {
    "duration": 94,
    "start_time": "2024-11-04T05:22:06.157Z"
   },
   {
    "duration": 73,
    "start_time": "2024-11-04T05:22:06.253Z"
   },
   {
    "duration": 10,
    "start_time": "2024-11-04T05:22:06.329Z"
   },
   {
    "duration": 5,
    "start_time": "2024-11-04T05:22:06.341Z"
   },
   {
    "duration": 3,
    "start_time": "2024-11-04T05:22:06.347Z"
   },
   {
    "duration": 5,
    "start_time": "2024-11-04T05:22:06.352Z"
   },
   {
    "duration": 3,
    "start_time": "2024-11-04T05:22:06.359Z"
   },
   {
    "duration": 5,
    "start_time": "2024-11-04T05:22:06.424Z"
   },
   {
    "duration": 3,
    "start_time": "2024-11-04T05:22:06.431Z"
   },
   {
    "duration": 3,
    "start_time": "2024-11-04T05:22:06.435Z"
   },
   {
    "duration": 5,
    "start_time": "2024-11-04T05:22:06.440Z"
   },
   {
    "duration": 2,
    "start_time": "2024-11-04T05:22:06.450Z"
   },
   {
    "duration": 2130,
    "start_time": "2024-11-04T05:22:06.455Z"
   },
   {
    "duration": 121,
    "start_time": "2024-11-04T05:22:08.587Z"
   },
   {
    "duration": 128,
    "start_time": "2024-11-04T05:22:08.710Z"
   },
   {
    "duration": 579,
    "start_time": "2024-11-04T05:22:08.840Z"
   },
   {
    "duration": 0,
    "start_time": "2024-11-04T05:22:09.425Z"
   },
   {
    "duration": 7,
    "start_time": "2024-11-04T05:23:07.558Z"
   },
   {
    "duration": 4,
    "start_time": "2024-11-04T05:23:09.195Z"
   },
   {
    "duration": 7,
    "start_time": "2024-11-04T05:23:43.485Z"
   },
   {
    "duration": 8,
    "start_time": "2024-11-04T05:25:55.021Z"
   },
   {
    "duration": 3,
    "start_time": "2024-11-04T05:27:01.696Z"
   },
   {
    "duration": 6,
    "start_time": "2024-11-04T05:27:29.546Z"
   },
   {
    "duration": 5,
    "start_time": "2024-11-04T05:35:32.011Z"
   },
   {
    "duration": 4,
    "start_time": "2024-11-04T05:35:48.841Z"
   },
   {
    "duration": 852,
    "start_time": "2024-11-04T05:36:02.690Z"
   },
   {
    "duration": 3219,
    "start_time": "2024-11-04T05:36:03.544Z"
   },
   {
    "duration": 36,
    "start_time": "2024-11-04T05:36:06.764Z"
   },
   {
    "duration": 8,
    "start_time": "2024-11-04T05:36:06.803Z"
   },
   {
    "duration": 32,
    "start_time": "2024-11-04T05:36:06.824Z"
   },
   {
    "duration": 8,
    "start_time": "2024-11-04T05:36:06.858Z"
   },
   {
    "duration": 31,
    "start_time": "2024-11-04T05:36:06.867Z"
   },
   {
    "duration": 31,
    "start_time": "2024-11-04T05:36:06.900Z"
   },
   {
    "duration": 28,
    "start_time": "2024-11-04T05:36:06.933Z"
   },
   {
    "duration": 8,
    "start_time": "2024-11-04T05:36:06.964Z"
   },
   {
    "duration": 52,
    "start_time": "2024-11-04T05:36:06.973Z"
   },
   {
    "duration": 9,
    "start_time": "2024-11-04T05:36:07.026Z"
   },
   {
    "duration": 31,
    "start_time": "2024-11-04T05:36:07.036Z"
   },
   {
    "duration": 8,
    "start_time": "2024-11-04T05:36:07.069Z"
   },
   {
    "duration": 51,
    "start_time": "2024-11-04T05:36:07.078Z"
   },
   {
    "duration": 101,
    "start_time": "2024-11-04T05:36:07.130Z"
   },
   {
    "duration": 95,
    "start_time": "2024-11-04T05:36:07.236Z"
   },
   {
    "duration": 3,
    "start_time": "2024-11-04T05:36:07.333Z"
   },
   {
    "duration": 11,
    "start_time": "2024-11-04T05:36:07.338Z"
   },
   {
    "duration": 5,
    "start_time": "2024-11-04T05:36:07.424Z"
   },
   {
    "duration": 6,
    "start_time": "2024-11-04T05:36:07.430Z"
   },
   {
    "duration": 4,
    "start_time": "2024-11-04T05:36:07.438Z"
   },
   {
    "duration": 0,
    "start_time": "2024-11-04T05:36:07.444Z"
   },
   {
    "duration": 0,
    "start_time": "2024-11-04T05:36:07.445Z"
   },
   {
    "duration": 0,
    "start_time": "2024-11-04T05:36:07.447Z"
   },
   {
    "duration": 0,
    "start_time": "2024-11-04T05:36:07.448Z"
   },
   {
    "duration": 266,
    "start_time": "2024-11-04T05:36:41.230Z"
   },
   {
    "duration": 7,
    "start_time": "2024-11-04T05:38:24.082Z"
   },
   {
    "duration": 6,
    "start_time": "2024-11-04T05:38:58.850Z"
   },
   {
    "duration": 881,
    "start_time": "2024-11-04T05:39:42.523Z"
   },
   {
    "duration": 2533,
    "start_time": "2024-11-04T05:39:43.406Z"
   },
   {
    "duration": 36,
    "start_time": "2024-11-04T05:39:45.941Z"
   },
   {
    "duration": 10,
    "start_time": "2024-11-04T05:39:45.978Z"
   },
   {
    "duration": 42,
    "start_time": "2024-11-04T05:39:45.991Z"
   },
   {
    "duration": 8,
    "start_time": "2024-11-04T05:39:46.035Z"
   },
   {
    "duration": 31,
    "start_time": "2024-11-04T05:39:46.044Z"
   },
   {
    "duration": 8,
    "start_time": "2024-11-04T05:39:46.077Z"
   },
   {
    "duration": 52,
    "start_time": "2024-11-04T05:39:46.087Z"
   },
   {
    "duration": 8,
    "start_time": "2024-11-04T05:39:46.141Z"
   },
   {
    "duration": 31,
    "start_time": "2024-11-04T05:39:46.151Z"
   },
   {
    "duration": 8,
    "start_time": "2024-11-04T05:39:46.184Z"
   },
   {
    "duration": 58,
    "start_time": "2024-11-04T05:39:46.194Z"
   },
   {
    "duration": 7,
    "start_time": "2024-11-04T05:39:46.255Z"
   },
   {
    "duration": 20,
    "start_time": "2024-11-04T05:39:46.264Z"
   },
   {
    "duration": 55,
    "start_time": "2024-11-04T05:39:46.285Z"
   },
   {
    "duration": 93,
    "start_time": "2024-11-04T05:39:46.342Z"
   },
   {
    "duration": 7,
    "start_time": "2024-11-04T05:39:46.437Z"
   },
   {
    "duration": 80,
    "start_time": "2024-11-04T05:39:46.445Z"
   },
   {
    "duration": 4,
    "start_time": "2024-11-04T05:39:46.527Z"
   },
   {
    "duration": 5,
    "start_time": "2024-11-04T05:39:46.533Z"
   },
   {
    "duration": 301,
    "start_time": "2024-11-04T05:39:46.540Z"
   },
   {
    "duration": 0,
    "start_time": "2024-11-04T05:39:46.843Z"
   },
   {
    "duration": 0,
    "start_time": "2024-11-04T05:39:46.844Z"
   },
   {
    "duration": 0,
    "start_time": "2024-11-04T05:39:46.845Z"
   },
   {
    "duration": 0,
    "start_time": "2024-11-04T05:39:46.846Z"
   },
   {
    "duration": 3,
    "start_time": "2024-11-04T05:40:49.074Z"
   },
   {
    "duration": 15,
    "start_time": "2024-11-04T05:40:52.883Z"
   },
   {
    "duration": 10,
    "start_time": "2024-11-04T05:43:56.644Z"
   },
   {
    "duration": 5,
    "start_time": "2024-11-04T05:45:01.224Z"
   },
   {
    "duration": 228,
    "start_time": "2024-11-04T05:45:20.013Z"
   },
   {
    "duration": 221,
    "start_time": "2024-11-04T05:48:16.192Z"
   },
   {
    "duration": 2,
    "start_time": "2024-11-04T05:57:32.638Z"
   },
   {
    "duration": 2641,
    "start_time": "2024-11-04T07:27:18.527Z"
   },
   {
    "duration": 2722,
    "start_time": "2024-11-04T07:27:21.170Z"
   },
   {
    "duration": 46,
    "start_time": "2024-11-04T07:27:23.894Z"
   },
   {
    "duration": 9,
    "start_time": "2024-11-04T07:27:23.943Z"
   },
   {
    "duration": 30,
    "start_time": "2024-11-04T07:27:23.954Z"
   },
   {
    "duration": 7,
    "start_time": "2024-11-04T07:27:23.986Z"
   },
   {
    "duration": 58,
    "start_time": "2024-11-04T07:27:23.995Z"
   },
   {
    "duration": 8,
    "start_time": "2024-11-04T07:27:24.054Z"
   },
   {
    "duration": 26,
    "start_time": "2024-11-04T07:27:24.064Z"
   },
   {
    "duration": 32,
    "start_time": "2024-11-04T07:27:24.093Z"
   },
   {
    "duration": 31,
    "start_time": "2024-11-04T07:27:24.127Z"
   },
   {
    "duration": 8,
    "start_time": "2024-11-04T07:27:24.160Z"
   },
   {
    "duration": 30,
    "start_time": "2024-11-04T07:27:24.170Z"
   },
   {
    "duration": 8,
    "start_time": "2024-11-04T07:27:24.225Z"
   },
   {
    "duration": 24,
    "start_time": "2024-11-04T07:27:24.235Z"
   },
   {
    "duration": 167,
    "start_time": "2024-11-04T07:27:24.261Z"
   },
   {
    "duration": 98,
    "start_time": "2024-11-04T07:27:24.430Z"
   },
   {
    "duration": 3,
    "start_time": "2024-11-04T07:27:24.530Z"
   },
   {
    "duration": 9,
    "start_time": "2024-11-04T07:27:24.534Z"
   },
   {
    "duration": 79,
    "start_time": "2024-11-04T07:27:24.545Z"
   },
   {
    "duration": 290,
    "start_time": "2024-11-04T07:27:24.627Z"
   },
   {
    "duration": 0,
    "start_time": "2024-11-04T07:27:24.919Z"
   },
   {
    "duration": 0,
    "start_time": "2024-11-04T07:27:24.923Z"
   },
   {
    "duration": 19,
    "start_time": "2024-11-04T07:28:52.652Z"
   },
   {
    "duration": 15,
    "start_time": "2024-11-04T07:29:19.955Z"
   },
   {
    "duration": 869,
    "start_time": "2024-11-04T07:29:47.122Z"
   },
   {
    "duration": 2924,
    "start_time": "2024-11-04T07:29:47.993Z"
   },
   {
    "duration": 36,
    "start_time": "2024-11-04T07:29:50.919Z"
   },
   {
    "duration": 8,
    "start_time": "2024-11-04T07:29:50.958Z"
   },
   {
    "duration": 31,
    "start_time": "2024-11-04T07:29:50.968Z"
   },
   {
    "duration": 24,
    "start_time": "2024-11-04T07:29:51.001Z"
   },
   {
    "duration": 31,
    "start_time": "2024-11-04T07:29:51.026Z"
   },
   {
    "duration": 8,
    "start_time": "2024-11-04T07:29:51.059Z"
   },
   {
    "duration": 29,
    "start_time": "2024-11-04T07:29:51.068Z"
   },
   {
    "duration": 9,
    "start_time": "2024-11-04T07:29:51.125Z"
   },
   {
    "duration": 32,
    "start_time": "2024-11-04T07:29:51.136Z"
   },
   {
    "duration": 9,
    "start_time": "2024-11-04T07:29:51.170Z"
   },
   {
    "duration": 52,
    "start_time": "2024-11-04T07:29:51.181Z"
   },
   {
    "duration": 9,
    "start_time": "2024-11-04T07:29:51.234Z"
   },
   {
    "duration": 19,
    "start_time": "2024-11-04T07:29:51.245Z"
   },
   {
    "duration": 69,
    "start_time": "2024-11-04T07:29:51.266Z"
   },
   {
    "duration": 95,
    "start_time": "2024-11-04T07:29:51.337Z"
   },
   {
    "duration": 4,
    "start_time": "2024-11-04T07:29:51.436Z"
   },
   {
    "duration": 83,
    "start_time": "2024-11-04T07:29:51.444Z"
   },
   {
    "duration": 5,
    "start_time": "2024-11-04T07:29:51.529Z"
   },
   {
    "duration": 296,
    "start_time": "2024-11-04T07:29:51.535Z"
   },
   {
    "duration": 1,
    "start_time": "2024-11-04T07:29:51.832Z"
   },
   {
    "duration": 0,
    "start_time": "2024-11-04T07:29:51.834Z"
   },
   {
    "duration": 17,
    "start_time": "2024-11-04T07:31:13.286Z"
   },
   {
    "duration": 17,
    "start_time": "2024-11-04T07:31:45.432Z"
   },
   {
    "duration": 16,
    "start_time": "2024-11-04T07:32:28.306Z"
   },
   {
    "duration": 8,
    "start_time": "2024-11-04T07:35:12.065Z"
   },
   {
    "duration": 271,
    "start_time": "2024-11-04T07:35:23.526Z"
   },
   {
    "duration": 898,
    "start_time": "2024-11-04T07:36:39.784Z"
   },
   {
    "duration": 2923,
    "start_time": "2024-11-04T07:36:40.684Z"
   },
   {
    "duration": 40,
    "start_time": "2024-11-04T07:36:43.608Z"
   },
   {
    "duration": 9,
    "start_time": "2024-11-04T07:36:43.652Z"
   },
   {
    "duration": 59,
    "start_time": "2024-11-04T07:36:43.664Z"
   },
   {
    "duration": 10,
    "start_time": "2024-11-04T07:36:43.727Z"
   },
   {
    "duration": 43,
    "start_time": "2024-11-04T07:36:43.739Z"
   },
   {
    "duration": 10,
    "start_time": "2024-11-04T07:36:43.785Z"
   },
   {
    "duration": 54,
    "start_time": "2024-11-04T07:36:43.797Z"
   },
   {
    "duration": 14,
    "start_time": "2024-11-04T07:36:43.857Z"
   },
   {
    "duration": 51,
    "start_time": "2024-11-04T07:36:43.876Z"
   },
   {
    "duration": 13,
    "start_time": "2024-11-04T07:36:43.928Z"
   },
   {
    "duration": 42,
    "start_time": "2024-11-04T07:36:43.944Z"
   },
   {
    "duration": 10,
    "start_time": "2024-11-04T07:36:43.987Z"
   },
   {
    "duration": 47,
    "start_time": "2024-11-04T07:36:43.999Z"
   },
   {
    "duration": 81,
    "start_time": "2024-11-04T07:36:44.048Z"
   },
   {
    "duration": 104,
    "start_time": "2024-11-04T07:36:44.131Z"
   },
   {
    "duration": 3,
    "start_time": "2024-11-04T07:36:44.237Z"
   },
   {
    "duration": 83,
    "start_time": "2024-11-04T07:36:44.241Z"
   },
   {
    "duration": 7,
    "start_time": "2024-11-04T07:36:44.326Z"
   },
   {
    "duration": 8,
    "start_time": "2024-11-04T07:36:44.335Z"
   },
   {
    "duration": 351,
    "start_time": "2024-11-04T07:36:44.345Z"
   },
   {
    "duration": 141,
    "start_time": "2024-11-04T07:36:44.698Z"
   },
   {
    "duration": 158,
    "start_time": "2024-11-05T01:36:13.435Z"
   },
   {
    "duration": 2812,
    "start_time": "2024-11-05T01:36:24.018Z"
   },
   {
    "duration": 2758,
    "start_time": "2024-11-05T01:36:26.832Z"
   },
   {
    "duration": 37,
    "start_time": "2024-11-05T01:36:29.592Z"
   },
   {
    "duration": 9,
    "start_time": "2024-11-05T01:36:29.631Z"
   },
   {
    "duration": 30,
    "start_time": "2024-11-05T01:36:29.641Z"
   },
   {
    "duration": 9,
    "start_time": "2024-11-05T01:36:29.673Z"
   },
   {
    "duration": 61,
    "start_time": "2024-11-05T01:36:29.684Z"
   },
   {
    "duration": 11,
    "start_time": "2024-11-05T01:36:29.748Z"
   },
   {
    "duration": 29,
    "start_time": "2024-11-05T01:36:29.760Z"
   },
   {
    "duration": 9,
    "start_time": "2024-11-05T01:36:29.812Z"
   },
   {
    "duration": 31,
    "start_time": "2024-11-05T01:36:29.822Z"
   },
   {
    "duration": 9,
    "start_time": "2024-11-05T01:36:29.855Z"
   },
   {
    "duration": 55,
    "start_time": "2024-11-05T01:36:29.866Z"
   },
   {
    "duration": 8,
    "start_time": "2024-11-05T01:36:29.923Z"
   },
   {
    "duration": 27,
    "start_time": "2024-11-05T01:36:29.933Z"
   },
   {
    "duration": 108,
    "start_time": "2024-11-05T01:36:30.012Z"
   },
   {
    "duration": 96,
    "start_time": "2024-11-05T01:36:30.122Z"
   },
   {
    "duration": 3,
    "start_time": "2024-11-05T01:36:30.220Z"
   },
   {
    "duration": 10,
    "start_time": "2024-11-05T01:36:30.225Z"
   },
   {
    "duration": 5,
    "start_time": "2024-11-05T01:36:30.316Z"
   },
   {
    "duration": 8,
    "start_time": "2024-11-05T01:36:30.322Z"
   },
   {
    "duration": 269,
    "start_time": "2024-11-05T01:36:30.331Z"
   },
   {
    "duration": 13,
    "start_time": "2024-11-05T01:36:30.602Z"
   },
   {
    "duration": 126,
    "start_time": "2024-11-05T01:36:30.617Z"
   },
   {
    "duration": 154,
    "start_time": "2024-11-05T01:44:53.869Z"
   },
   {
    "duration": 5,
    "start_time": "2024-11-05T02:42:15.028Z"
   },
   {
    "duration": 4,
    "start_time": "2024-11-05T02:59:36.557Z"
   },
   {
    "duration": 3,
    "start_time": "2024-11-05T03:07:41.628Z"
   },
   {
    "duration": 295,
    "start_time": "2024-11-05T03:08:25.308Z"
   },
   {
    "duration": 953,
    "start_time": "2024-11-05T03:08:34.215Z"
   },
   {
    "duration": 2711,
    "start_time": "2024-11-05T03:08:35.170Z"
   },
   {
    "duration": 46,
    "start_time": "2024-11-05T03:08:37.883Z"
   },
   {
    "duration": 9,
    "start_time": "2024-11-05T03:08:37.932Z"
   },
   {
    "duration": 32,
    "start_time": "2024-11-05T03:08:37.942Z"
   },
   {
    "duration": 8,
    "start_time": "2024-11-05T03:08:37.976Z"
   },
   {
    "duration": 59,
    "start_time": "2024-11-05T03:08:37.985Z"
   },
   {
    "duration": 9,
    "start_time": "2024-11-05T03:08:38.046Z"
   },
   {
    "duration": 31,
    "start_time": "2024-11-05T03:08:38.056Z"
   },
   {
    "duration": 8,
    "start_time": "2024-11-05T03:08:38.114Z"
   },
   {
    "duration": 33,
    "start_time": "2024-11-05T03:08:38.124Z"
   },
   {
    "duration": 10,
    "start_time": "2024-11-05T03:08:38.159Z"
   },
   {
    "duration": 59,
    "start_time": "2024-11-05T03:08:38.171Z"
   },
   {
    "duration": 8,
    "start_time": "2024-11-05T03:08:38.232Z"
   },
   {
    "duration": 18,
    "start_time": "2024-11-05T03:08:38.242Z"
   },
   {
    "duration": 70,
    "start_time": "2024-11-05T03:08:38.261Z"
   },
   {
    "duration": 100,
    "start_time": "2024-11-05T03:08:38.333Z"
   },
   {
    "duration": 77,
    "start_time": "2024-11-05T03:08:38.435Z"
   },
   {
    "duration": 10,
    "start_time": "2024-11-05T03:08:38.514Z"
   },
   {
    "duration": 4,
    "start_time": "2024-11-05T03:08:38.525Z"
   },
   {
    "duration": 337,
    "start_time": "2024-11-05T03:08:38.532Z"
   },
   {
    "duration": 0,
    "start_time": "2024-11-05T03:08:38.871Z"
   },
   {
    "duration": 0,
    "start_time": "2024-11-05T03:08:38.873Z"
   },
   {
    "duration": 0,
    "start_time": "2024-11-05T03:08:38.874Z"
   },
   {
    "duration": 0,
    "start_time": "2024-11-05T03:08:38.875Z"
   },
   {
    "duration": 0,
    "start_time": "2024-11-05T03:08:38.877Z"
   },
   {
    "duration": 5,
    "start_time": "2024-11-05T03:08:54.064Z"
   },
   {
    "duration": 7,
    "start_time": "2024-11-05T03:09:06.352Z"
   },
   {
    "duration": 5,
    "start_time": "2024-11-05T03:09:33.721Z"
   },
   {
    "duration": 5,
    "start_time": "2024-11-05T03:09:37.626Z"
   },
   {
    "duration": 3,
    "start_time": "2024-11-05T03:09:39.367Z"
   },
   {
    "duration": 6,
    "start_time": "2024-11-05T03:09:51.740Z"
   },
   {
    "duration": 6,
    "start_time": "2024-11-05T03:09:54.287Z"
   },
   {
    "duration": 2,
    "start_time": "2024-11-05T03:11:05.567Z"
   },
   {
    "duration": 5,
    "start_time": "2024-11-05T03:11:07.436Z"
   },
   {
    "duration": 4,
    "start_time": "2024-11-05T03:11:09.135Z"
   },
   {
    "duration": 4,
    "start_time": "2024-11-05T03:11:10.456Z"
   },
   {
    "duration": 5,
    "start_time": "2024-11-05T03:11:22.043Z"
   },
   {
    "duration": 4,
    "start_time": "2024-11-05T03:19:21.447Z"
   },
   {
    "duration": 4,
    "start_time": "2024-11-05T03:21:24.442Z"
   },
   {
    "duration": 3,
    "start_time": "2024-11-05T03:22:35.055Z"
   },
   {
    "duration": 292,
    "start_time": "2024-11-05T03:22:36.250Z"
   },
   {
    "duration": 3,
    "start_time": "2024-11-05T03:26:57.541Z"
   },
   {
    "duration": 4,
    "start_time": "2024-11-05T03:27:10.078Z"
   },
   {
    "duration": 289,
    "start_time": "2024-11-05T03:27:13.514Z"
   },
   {
    "duration": 302,
    "start_time": "2024-11-05T03:30:19.210Z"
   },
   {
    "duration": 3,
    "start_time": "2024-11-05T03:31:24.598Z"
   },
   {
    "duration": 291,
    "start_time": "2024-11-05T03:31:50.797Z"
   },
   {
    "duration": 905,
    "start_time": "2024-11-05T03:36:09.694Z"
   },
   {
    "duration": 3484,
    "start_time": "2024-11-05T03:36:10.602Z"
   },
   {
    "duration": 41,
    "start_time": "2024-11-05T03:36:14.088Z"
   },
   {
    "duration": 8,
    "start_time": "2024-11-05T03:36:14.131Z"
   },
   {
    "duration": 30,
    "start_time": "2024-11-05T03:36:14.142Z"
   },
   {
    "duration": 8,
    "start_time": "2024-11-05T03:36:14.174Z"
   },
   {
    "duration": 57,
    "start_time": "2024-11-05T03:36:14.184Z"
   },
   {
    "duration": 9,
    "start_time": "2024-11-05T03:36:14.244Z"
   },
   {
    "duration": 29,
    "start_time": "2024-11-05T03:36:14.255Z"
   },
   {
    "duration": 32,
    "start_time": "2024-11-05T03:36:14.286Z"
   },
   {
    "duration": 32,
    "start_time": "2024-11-05T03:36:14.320Z"
   },
   {
    "duration": 9,
    "start_time": "2024-11-05T03:36:14.353Z"
   },
   {
    "duration": 51,
    "start_time": "2024-11-05T03:36:14.363Z"
   },
   {
    "duration": 8,
    "start_time": "2024-11-05T03:36:14.417Z"
   },
   {
    "duration": 19,
    "start_time": "2024-11-05T03:36:14.427Z"
   },
   {
    "duration": 75,
    "start_time": "2024-11-05T03:36:14.447Z"
   },
   {
    "duration": 102,
    "start_time": "2024-11-05T03:36:14.523Z"
   },
   {
    "duration": 2,
    "start_time": "2024-11-05T03:36:14.627Z"
   },
   {
    "duration": 88,
    "start_time": "2024-11-05T03:36:14.631Z"
   },
   {
    "duration": 6,
    "start_time": "2024-11-05T03:36:14.721Z"
   },
   {
    "duration": 3,
    "start_time": "2024-11-05T03:36:14.729Z"
   },
   {
    "duration": 4,
    "start_time": "2024-11-05T03:36:14.734Z"
   },
   {
    "duration": 4,
    "start_time": "2024-11-05T03:36:14.740Z"
   },
   {
    "duration": 4,
    "start_time": "2024-11-05T03:36:14.745Z"
   },
   {
    "duration": 7,
    "start_time": "2024-11-05T03:36:14.750Z"
   },
   {
    "duration": 307,
    "start_time": "2024-11-05T03:36:14.811Z"
   },
   {
    "duration": 5,
    "start_time": "2024-11-05T03:36:15.123Z"
   },
   {
    "duration": 0,
    "start_time": "2024-11-05T03:36:15.129Z"
   },
   {
    "duration": 0,
    "start_time": "2024-11-05T03:36:15.131Z"
   },
   {
    "duration": 0,
    "start_time": "2024-11-05T03:36:15.132Z"
   },
   {
    "duration": 0,
    "start_time": "2024-11-05T03:36:15.134Z"
   },
   {
    "duration": 0,
    "start_time": "2024-11-05T03:36:15.135Z"
   },
   {
    "duration": 0,
    "start_time": "2024-11-05T03:36:15.137Z"
   },
   {
    "duration": 922,
    "start_time": "2024-11-05T03:36:39.840Z"
   },
   {
    "duration": 2821,
    "start_time": "2024-11-05T03:36:40.764Z"
   },
   {
    "duration": 40,
    "start_time": "2024-11-05T03:36:43.586Z"
   },
   {
    "duration": 9,
    "start_time": "2024-11-05T03:36:43.628Z"
   },
   {
    "duration": 34,
    "start_time": "2024-11-05T03:36:43.639Z"
   },
   {
    "duration": 8,
    "start_time": "2024-11-05T03:36:43.675Z"
   },
   {
    "duration": 58,
    "start_time": "2024-11-05T03:36:43.684Z"
   },
   {
    "duration": 9,
    "start_time": "2024-11-05T03:36:43.743Z"
   },
   {
    "duration": 29,
    "start_time": "2024-11-05T03:36:43.754Z"
   },
   {
    "duration": 28,
    "start_time": "2024-11-05T03:36:43.787Z"
   },
   {
    "duration": 32,
    "start_time": "2024-11-05T03:36:43.817Z"
   },
   {
    "duration": 8,
    "start_time": "2024-11-05T03:36:43.852Z"
   },
   {
    "duration": 56,
    "start_time": "2024-11-05T03:36:43.862Z"
   },
   {
    "duration": 9,
    "start_time": "2024-11-05T03:36:43.920Z"
   },
   {
    "duration": 19,
    "start_time": "2024-11-05T03:36:43.930Z"
   },
   {
    "duration": 70,
    "start_time": "2024-11-05T03:36:43.951Z"
   },
   {
    "duration": 90,
    "start_time": "2024-11-05T03:36:44.023Z"
   },
   {
    "duration": 3,
    "start_time": "2024-11-05T03:36:44.115Z"
   },
   {
    "duration": 9,
    "start_time": "2024-11-05T03:36:44.120Z"
   },
   {
    "duration": 5,
    "start_time": "2024-11-05T03:36:44.131Z"
   },
   {
    "duration": 3,
    "start_time": "2024-11-05T03:36:44.212Z"
   },
   {
    "duration": 4,
    "start_time": "2024-11-05T03:36:44.217Z"
   },
   {
    "duration": 4,
    "start_time": "2024-11-05T03:36:44.223Z"
   },
   {
    "duration": 4,
    "start_time": "2024-11-05T03:36:44.228Z"
   },
   {
    "duration": 309,
    "start_time": "2024-11-05T03:36:44.234Z"
   },
   {
    "duration": 0,
    "start_time": "2024-11-05T03:36:44.544Z"
   },
   {
    "duration": 0,
    "start_time": "2024-11-05T03:36:44.546Z"
   },
   {
    "duration": 0,
    "start_time": "2024-11-05T03:36:44.547Z"
   },
   {
    "duration": 0,
    "start_time": "2024-11-05T03:36:44.548Z"
   },
   {
    "duration": 0,
    "start_time": "2024-11-05T03:36:44.549Z"
   },
   {
    "duration": 0,
    "start_time": "2024-11-05T03:36:44.550Z"
   },
   {
    "duration": 0,
    "start_time": "2024-11-05T03:36:44.551Z"
   },
   {
    "duration": 4,
    "start_time": "2024-11-05T03:36:55.856Z"
   },
   {
    "duration": 298,
    "start_time": "2024-11-05T03:36:58.524Z"
   },
   {
    "duration": 3,
    "start_time": "2024-11-05T03:37:01.696Z"
   },
   {
    "duration": 289,
    "start_time": "2024-11-05T03:37:07.652Z"
   },
   {
    "duration": 956,
    "start_time": "2024-11-05T03:37:17.328Z"
   },
   {
    "duration": 2589,
    "start_time": "2024-11-05T03:37:18.286Z"
   },
   {
    "duration": 47,
    "start_time": "2024-11-05T03:37:20.876Z"
   },
   {
    "duration": 8,
    "start_time": "2024-11-05T03:37:20.927Z"
   },
   {
    "duration": 30,
    "start_time": "2024-11-05T03:37:20.937Z"
   },
   {
    "duration": 8,
    "start_time": "2024-11-05T03:37:20.968Z"
   },
   {
    "duration": 57,
    "start_time": "2024-11-05T03:37:20.978Z"
   },
   {
    "duration": 9,
    "start_time": "2024-11-05T03:37:21.037Z"
   },
   {
    "duration": 27,
    "start_time": "2024-11-05T03:37:21.048Z"
   },
   {
    "duration": 8,
    "start_time": "2024-11-05T03:37:21.078Z"
   },
   {
    "duration": 53,
    "start_time": "2024-11-05T03:37:21.088Z"
   },
   {
    "duration": 9,
    "start_time": "2024-11-05T03:37:21.143Z"
   },
   {
    "duration": 29,
    "start_time": "2024-11-05T03:37:21.153Z"
   },
   {
    "duration": 31,
    "start_time": "2024-11-05T03:37:21.184Z"
   },
   {
    "duration": 23,
    "start_time": "2024-11-05T03:37:21.217Z"
   },
   {
    "duration": 89,
    "start_time": "2024-11-05T03:37:21.244Z"
   },
   {
    "duration": 99,
    "start_time": "2024-11-05T03:37:21.336Z"
   },
   {
    "duration": 3,
    "start_time": "2024-11-05T03:37:21.512Z"
   },
   {
    "duration": 11,
    "start_time": "2024-11-05T03:37:21.519Z"
   },
   {
    "duration": 4,
    "start_time": "2024-11-05T03:37:21.534Z"
   },
   {
    "duration": 74,
    "start_time": "2024-11-05T03:37:21.539Z"
   },
   {
    "duration": 5,
    "start_time": "2024-11-05T03:37:21.615Z"
   },
   {
    "duration": 4,
    "start_time": "2024-11-05T03:37:21.621Z"
   },
   {
    "duration": 3,
    "start_time": "2024-11-05T03:37:21.627Z"
   },
   {
    "duration": 298,
    "start_time": "2024-11-05T03:37:21.632Z"
   },
   {
    "duration": 0,
    "start_time": "2024-11-05T03:37:21.931Z"
   },
   {
    "duration": 0,
    "start_time": "2024-11-05T03:37:21.933Z"
   },
   {
    "duration": 0,
    "start_time": "2024-11-05T03:37:21.935Z"
   },
   {
    "duration": 0,
    "start_time": "2024-11-05T03:37:21.936Z"
   },
   {
    "duration": 0,
    "start_time": "2024-11-05T03:37:21.936Z"
   },
   {
    "duration": 4,
    "start_time": "2024-11-05T03:37:34.757Z"
   },
   {
    "duration": 302,
    "start_time": "2024-11-05T03:37:36.815Z"
   },
   {
    "duration": 3,
    "start_time": "2024-11-05T03:37:39.612Z"
   },
   {
    "duration": 280,
    "start_time": "2024-11-05T03:37:41.260Z"
   },
   {
    "duration": 13,
    "start_time": "2024-11-05T03:37:56.819Z"
   },
   {
    "duration": 285,
    "start_time": "2024-11-05T03:38:34.232Z"
   },
   {
    "duration": 285,
    "start_time": "2024-11-05T03:38:36.314Z"
   },
   {
    "duration": 3,
    "start_time": "2024-11-05T03:38:38.963Z"
   },
   {
    "duration": 282,
    "start_time": "2024-11-05T03:38:42.192Z"
   },
   {
    "duration": 293,
    "start_time": "2024-11-05T03:38:44.058Z"
   },
   {
    "duration": 296,
    "start_time": "2024-11-05T03:38:46.026Z"
   },
   {
    "duration": 285,
    "start_time": "2024-11-05T03:42:46.866Z"
   },
   {
    "duration": 2,
    "start_time": "2024-11-05T03:43:59.365Z"
   },
   {
    "duration": 4,
    "start_time": "2024-11-05T03:44:16.410Z"
   },
   {
    "duration": 5,
    "start_time": "2024-11-05T03:44:22.927Z"
   },
   {
    "duration": 5,
    "start_time": "2024-11-05T03:44:24.681Z"
   },
   {
    "duration": 3,
    "start_time": "2024-11-05T03:46:31.761Z"
   },
   {
    "duration": 5,
    "start_time": "2024-11-05T03:47:08.553Z"
   },
   {
    "duration": 4,
    "start_time": "2024-11-05T03:47:39.745Z"
   },
   {
    "duration": 4,
    "start_time": "2024-11-05T03:49:47.839Z"
   },
   {
    "duration": 3,
    "start_time": "2024-11-05T04:28:18.824Z"
   },
   {
    "duration": 7,
    "start_time": "2024-11-05T04:28:28.812Z"
   },
   {
    "duration": 6,
    "start_time": "2024-11-05T04:29:37.631Z"
   },
   {
    "duration": 6,
    "start_time": "2024-11-05T04:29:58.610Z"
   },
   {
    "duration": 246,
    "start_time": "2024-11-05T04:30:44.774Z"
   },
   {
    "duration": 5,
    "start_time": "2024-11-05T04:40:29.419Z"
   },
   {
    "duration": 923,
    "start_time": "2024-11-05T04:41:36.830Z"
   },
   {
    "duration": 2790,
    "start_time": "2024-11-05T04:41:37.754Z"
   },
   {
    "duration": 36,
    "start_time": "2024-11-05T04:41:40.546Z"
   },
   {
    "duration": 8,
    "start_time": "2024-11-05T04:41:40.585Z"
   },
   {
    "duration": 45,
    "start_time": "2024-11-05T04:41:40.595Z"
   },
   {
    "duration": 8,
    "start_time": "2024-11-05T04:41:40.641Z"
   },
   {
    "duration": 32,
    "start_time": "2024-11-05T04:41:40.650Z"
   },
   {
    "duration": 31,
    "start_time": "2024-11-05T04:41:40.683Z"
   },
   {
    "duration": 28,
    "start_time": "2024-11-05T04:41:40.715Z"
   },
   {
    "duration": 8,
    "start_time": "2024-11-05T04:41:40.746Z"
   },
   {
    "duration": 32,
    "start_time": "2024-11-05T04:41:40.755Z"
   },
   {
    "duration": 10,
    "start_time": "2024-11-05T04:41:40.811Z"
   },
   {
    "duration": 30,
    "start_time": "2024-11-05T04:41:40.822Z"
   },
   {
    "duration": 7,
    "start_time": "2024-11-05T04:41:40.854Z"
   },
   {
    "duration": 62,
    "start_time": "2024-11-05T04:41:40.862Z"
   },
   {
    "duration": 95,
    "start_time": "2024-11-05T04:41:40.926Z"
   },
   {
    "duration": 96,
    "start_time": "2024-11-05T04:41:41.024Z"
   },
   {
    "duration": 2,
    "start_time": "2024-11-05T04:41:41.122Z"
   },
   {
    "duration": 10,
    "start_time": "2024-11-05T04:41:41.126Z"
   },
   {
    "duration": 10,
    "start_time": "2024-11-05T04:41:41.215Z"
   },
   {
    "duration": 3,
    "start_time": "2024-11-05T04:41:41.227Z"
   },
   {
    "duration": 4,
    "start_time": "2024-11-05T04:41:41.233Z"
   },
   {
    "duration": 3,
    "start_time": "2024-11-05T04:41:41.239Z"
   },
   {
    "duration": 5,
    "start_time": "2024-11-05T04:41:41.244Z"
   },
   {
    "duration": 3,
    "start_time": "2024-11-05T04:41:41.251Z"
   },
   {
    "duration": 345,
    "start_time": "2024-11-05T04:41:41.255Z"
   },
   {
    "duration": 299,
    "start_time": "2024-11-05T04:41:41.602Z"
   },
   {
    "duration": 306,
    "start_time": "2024-11-05T04:41:41.911Z"
   },
   {
    "duration": 4,
    "start_time": "2024-11-05T04:41:42.218Z"
   },
   {
    "duration": 5,
    "start_time": "2024-11-05T04:41:42.223Z"
   },
   {
    "duration": 287,
    "start_time": "2024-11-05T04:41:42.229Z"
   },
   {
    "duration": 0,
    "start_time": "2024-11-05T04:41:42.518Z"
   },
   {
    "duration": 0,
    "start_time": "2024-11-05T04:41:42.519Z"
   },
   {
    "duration": 0,
    "start_time": "2024-11-05T04:41:42.521Z"
   },
   {
    "duration": 0,
    "start_time": "2024-11-05T04:41:42.522Z"
   },
   {
    "duration": 2670,
    "start_time": "2024-11-05T16:16:17.988Z"
   },
   {
    "duration": 2845,
    "start_time": "2024-11-05T16:16:20.661Z"
   },
   {
    "duration": 46,
    "start_time": "2024-11-05T16:16:23.508Z"
   },
   {
    "duration": 9,
    "start_time": "2024-11-05T16:16:23.556Z"
   },
   {
    "duration": 29,
    "start_time": "2024-11-05T16:16:23.566Z"
   },
   {
    "duration": 7,
    "start_time": "2024-11-05T16:16:23.597Z"
   },
   {
    "duration": 56,
    "start_time": "2024-11-05T16:16:23.606Z"
   },
   {
    "duration": 9,
    "start_time": "2024-11-05T16:16:23.663Z"
   },
   {
    "duration": 28,
    "start_time": "2024-11-05T16:16:23.673Z"
   },
   {
    "duration": 8,
    "start_time": "2024-11-05T16:16:23.704Z"
   },
   {
    "duration": 55,
    "start_time": "2024-11-05T16:16:23.713Z"
   },
   {
    "duration": 9,
    "start_time": "2024-11-05T16:16:23.770Z"
   },
   {
    "duration": 28,
    "start_time": "2024-11-05T16:16:23.780Z"
   },
   {
    "duration": 7,
    "start_time": "2024-11-05T16:16:23.810Z"
   },
   {
    "duration": 46,
    "start_time": "2024-11-05T16:16:23.819Z"
   },
   {
    "duration": 96,
    "start_time": "2024-11-05T16:16:23.867Z"
   },
   {
    "duration": 99,
    "start_time": "2024-11-05T16:16:23.965Z"
   },
   {
    "duration": 78,
    "start_time": "2024-11-05T16:16:24.065Z"
   },
   {
    "duration": 11,
    "start_time": "2024-11-05T16:16:24.148Z"
   },
   {
    "duration": 5,
    "start_time": "2024-11-05T16:16:24.161Z"
   },
   {
    "duration": 3,
    "start_time": "2024-11-05T16:16:24.167Z"
   },
   {
    "duration": 70,
    "start_time": "2024-11-05T16:16:24.172Z"
   },
   {
    "duration": 4,
    "start_time": "2024-11-05T16:16:24.244Z"
   },
   {
    "duration": 4,
    "start_time": "2024-11-05T16:16:24.250Z"
   },
   {
    "duration": 3,
    "start_time": "2024-11-05T16:16:24.256Z"
   },
   {
    "duration": 327,
    "start_time": "2024-11-05T16:16:24.261Z"
   },
   {
    "duration": 294,
    "start_time": "2024-11-05T16:16:24.590Z"
   },
   {
    "duration": 302,
    "start_time": "2024-11-05T16:16:24.888Z"
   },
   {
    "duration": 3,
    "start_time": "2024-11-05T16:16:25.192Z"
   },
   {
    "duration": 4,
    "start_time": "2024-11-05T16:16:25.197Z"
   },
   {
    "duration": 240,
    "start_time": "2024-11-05T16:16:25.203Z"
   },
   {
    "duration": 0,
    "start_time": "2024-11-05T16:16:25.445Z"
   },
   {
    "duration": 0,
    "start_time": "2024-11-05T16:16:25.447Z"
   },
   {
    "duration": 0,
    "start_time": "2024-11-05T16:16:25.448Z"
   },
   {
    "duration": 0,
    "start_time": "2024-11-05T16:16:25.449Z"
   },
   {
    "duration": 301,
    "start_time": "2024-11-05T16:22:52.042Z"
   },
   {
    "duration": 291,
    "start_time": "2024-11-05T16:23:07.170Z"
   },
   {
    "duration": 303,
    "start_time": "2024-11-05T16:23:20.258Z"
   },
   {
    "duration": 293,
    "start_time": "2024-11-05T16:23:34.352Z"
   },
   {
    "duration": 295,
    "start_time": "2024-11-05T16:36:54.086Z"
   },
   {
    "duration": 3,
    "start_time": "2024-11-05T16:38:05.282Z"
   },
   {
    "duration": 5,
    "start_time": "2024-11-05T16:38:08.092Z"
   },
   {
    "duration": 5,
    "start_time": "2024-11-05T16:38:37.474Z"
   },
   {
    "duration": 891,
    "start_time": "2024-11-05T16:40:02.388Z"
   },
   {
    "duration": 2832,
    "start_time": "2024-11-05T16:40:03.281Z"
   },
   {
    "duration": 40,
    "start_time": "2024-11-05T16:40:06.115Z"
   },
   {
    "duration": 9,
    "start_time": "2024-11-05T16:40:06.157Z"
   },
   {
    "duration": 32,
    "start_time": "2024-11-05T16:40:06.169Z"
   },
   {
    "duration": 8,
    "start_time": "2024-11-05T16:40:06.203Z"
   },
   {
    "duration": 57,
    "start_time": "2024-11-05T16:40:06.212Z"
   },
   {
    "duration": 8,
    "start_time": "2024-11-05T16:40:06.271Z"
   },
   {
    "duration": 27,
    "start_time": "2024-11-05T16:40:06.281Z"
   },
   {
    "duration": 8,
    "start_time": "2024-11-05T16:40:06.310Z"
   },
   {
    "duration": 53,
    "start_time": "2024-11-05T16:40:06.320Z"
   },
   {
    "duration": 8,
    "start_time": "2024-11-05T16:40:06.375Z"
   },
   {
    "duration": 29,
    "start_time": "2024-11-05T16:40:06.385Z"
   },
   {
    "duration": 28,
    "start_time": "2024-11-05T16:40:06.419Z"
   },
   {
    "duration": 20,
    "start_time": "2024-11-05T16:40:06.451Z"
   },
   {
    "duration": 77,
    "start_time": "2024-11-05T16:40:06.473Z"
   },
   {
    "duration": 91,
    "start_time": "2024-11-05T16:40:06.552Z"
   },
   {
    "duration": 3,
    "start_time": "2024-11-05T16:40:06.645Z"
   },
   {
    "duration": 9,
    "start_time": "2024-11-05T16:40:06.651Z"
   },
   {
    "duration": 6,
    "start_time": "2024-11-05T16:40:06.662Z"
   },
   {
    "duration": 2,
    "start_time": "2024-11-05T16:40:06.744Z"
   },
   {
    "duration": 4,
    "start_time": "2024-11-05T16:40:06.749Z"
   },
   {
    "duration": 5,
    "start_time": "2024-11-05T16:40:06.755Z"
   },
   {
    "duration": 5,
    "start_time": "2024-11-05T16:40:06.761Z"
   },
   {
    "duration": 3,
    "start_time": "2024-11-05T16:40:06.768Z"
   },
   {
    "duration": 332,
    "start_time": "2024-11-05T16:40:06.773Z"
   },
   {
    "duration": 302,
    "start_time": "2024-11-05T16:40:07.107Z"
   },
   {
    "duration": 300,
    "start_time": "2024-11-05T16:40:07.411Z"
   },
   {
    "duration": 3,
    "start_time": "2024-11-05T16:40:07.713Z"
   },
   {
    "duration": 4,
    "start_time": "2024-11-05T16:40:07.718Z"
   },
   {
    "duration": 19,
    "start_time": "2024-11-05T16:40:07.724Z"
   },
   {
    "duration": 4,
    "start_time": "2024-11-05T16:40:07.745Z"
   },
   {
    "duration": 4,
    "start_time": "2024-11-05T16:45:07.743Z"
   },
   {
    "duration": 883,
    "start_time": "2024-11-05T16:47:10.131Z"
   },
   {
    "duration": 3,
    "start_time": "2024-11-05T16:47:36.650Z"
   },
   {
    "duration": 4,
    "start_time": "2024-11-05T16:47:40.187Z"
   },
   {
    "duration": 5,
    "start_time": "2024-11-05T16:48:03.090Z"
   },
   {
    "duration": 4,
    "start_time": "2024-11-05T16:48:34.787Z"
   },
   {
    "duration": 927,
    "start_time": "2024-11-05T16:49:29.872Z"
   },
   {
    "duration": 2813,
    "start_time": "2024-11-05T16:49:30.801Z"
   },
   {
    "duration": 40,
    "start_time": "2024-11-05T16:49:33.616Z"
   },
   {
    "duration": 9,
    "start_time": "2024-11-05T16:49:33.659Z"
   },
   {
    "duration": 30,
    "start_time": "2024-11-05T16:49:33.670Z"
   },
   {
    "duration": 8,
    "start_time": "2024-11-05T16:49:33.702Z"
   },
   {
    "duration": 56,
    "start_time": "2024-11-05T16:49:33.711Z"
   },
   {
    "duration": 9,
    "start_time": "2024-11-05T16:49:33.768Z"
   },
   {
    "duration": 29,
    "start_time": "2024-11-05T16:49:33.778Z"
   },
   {
    "duration": 7,
    "start_time": "2024-11-05T16:49:33.810Z"
   },
   {
    "duration": 52,
    "start_time": "2024-11-05T16:49:33.819Z"
   },
   {
    "duration": 9,
    "start_time": "2024-11-05T16:49:33.873Z"
   },
   {
    "duration": 29,
    "start_time": "2024-11-05T16:49:33.883Z"
   },
   {
    "duration": 32,
    "start_time": "2024-11-05T16:49:33.914Z"
   },
   {
    "duration": 19,
    "start_time": "2024-11-05T16:49:33.948Z"
   },
   {
    "duration": 85,
    "start_time": "2024-11-05T16:49:33.968Z"
   },
   {
    "duration": 100,
    "start_time": "2024-11-05T16:49:34.055Z"
   },
   {
    "duration": 3,
    "start_time": "2024-11-05T16:49:34.157Z"
   },
   {
    "duration": 82,
    "start_time": "2024-11-05T16:49:34.162Z"
   },
   {
    "duration": 8,
    "start_time": "2024-11-05T16:49:34.246Z"
   },
   {
    "duration": 3,
    "start_time": "2024-11-05T16:49:34.256Z"
   },
   {
    "duration": 5,
    "start_time": "2024-11-05T16:49:34.261Z"
   },
   {
    "duration": 5,
    "start_time": "2024-11-05T16:49:34.268Z"
   },
   {
    "duration": 4,
    "start_time": "2024-11-05T16:49:34.274Z"
   },
   {
    "duration": 65,
    "start_time": "2024-11-05T16:49:34.279Z"
   },
   {
    "duration": 884,
    "start_time": "2024-11-05T16:49:34.346Z"
   },
   {
    "duration": 6,
    "start_time": "2024-11-05T16:49:35.232Z"
   },
   {
    "duration": 4,
    "start_time": "2024-11-05T16:49:35.246Z"
   },
   {
    "duration": 5,
    "start_time": "2024-11-05T16:49:35.252Z"
   },
   {
    "duration": 5,
    "start_time": "2024-11-05T16:49:35.259Z"
   },
   {
    "duration": 5,
    "start_time": "2024-11-05T16:55:28.406Z"
   },
   {
    "duration": 897,
    "start_time": "2024-11-05T16:55:36.886Z"
   },
   {
    "duration": 2887,
    "start_time": "2024-11-05T16:55:37.785Z"
   },
   {
    "duration": 36,
    "start_time": "2024-11-05T16:55:40.673Z"
   },
   {
    "duration": 10,
    "start_time": "2024-11-05T16:55:40.712Z"
   },
   {
    "duration": 48,
    "start_time": "2024-11-05T16:55:40.725Z"
   },
   {
    "duration": 8,
    "start_time": "2024-11-05T16:55:40.774Z"
   },
   {
    "duration": 31,
    "start_time": "2024-11-05T16:55:40.784Z"
   },
   {
    "duration": 36,
    "start_time": "2024-11-05T16:55:40.817Z"
   },
   {
    "duration": 29,
    "start_time": "2024-11-05T16:55:40.856Z"
   },
   {
    "duration": 7,
    "start_time": "2024-11-05T16:55:40.887Z"
   },
   {
    "duration": 53,
    "start_time": "2024-11-05T16:55:40.896Z"
   },
   {
    "duration": 13,
    "start_time": "2024-11-05T16:55:40.950Z"
   },
   {
    "duration": 30,
    "start_time": "2024-11-05T16:55:40.964Z"
   },
   {
    "duration": 8,
    "start_time": "2024-11-05T16:55:40.997Z"
   },
   {
    "duration": 46,
    "start_time": "2024-11-05T16:55:41.007Z"
   },
   {
    "duration": 102,
    "start_time": "2024-11-05T16:55:41.055Z"
   },
   {
    "duration": 87,
    "start_time": "2024-11-05T16:55:41.159Z"
   },
   {
    "duration": 4,
    "start_time": "2024-11-05T16:55:41.248Z"
   },
   {
    "duration": 12,
    "start_time": "2024-11-05T16:55:41.254Z"
   },
   {
    "duration": 77,
    "start_time": "2024-11-05T16:55:41.268Z"
   },
   {
    "duration": 3,
    "start_time": "2024-11-05T16:55:41.347Z"
   },
   {
    "duration": 5,
    "start_time": "2024-11-05T16:55:41.351Z"
   },
   {
    "duration": 4,
    "start_time": "2024-11-05T16:55:41.358Z"
   },
   {
    "duration": 4,
    "start_time": "2024-11-05T16:55:41.364Z"
   },
   {
    "duration": 3,
    "start_time": "2024-11-05T16:55:41.370Z"
   },
   {
    "duration": 920,
    "start_time": "2024-11-05T16:55:41.375Z"
   },
   {
    "duration": 4,
    "start_time": "2024-11-05T16:55:42.297Z"
   },
   {
    "duration": 5,
    "start_time": "2024-11-05T16:55:42.302Z"
   },
   {
    "duration": 4,
    "start_time": "2024-11-05T16:55:42.309Z"
   },
   {
    "duration": 29,
    "start_time": "2024-11-05T16:55:42.315Z"
   },
   {
    "duration": 5,
    "start_time": "2024-11-05T17:55:27.749Z"
   },
   {
    "duration": 5,
    "start_time": "2024-11-05T17:55:30.519Z"
   },
   {
    "duration": 865,
    "start_time": "2024-11-05T17:55:36.939Z"
   },
   {
    "duration": 5,
    "start_time": "2024-11-05T17:55:38.891Z"
   },
   {
    "duration": 4,
    "start_time": "2024-11-05T17:56:17.167Z"
   },
   {
    "duration": 5,
    "start_time": "2024-11-05T17:56:22.080Z"
   },
   {
    "duration": 898,
    "start_time": "2024-11-05T17:56:25.010Z"
   },
   {
    "duration": 5,
    "start_time": "2024-11-05T17:56:26.604Z"
   },
   {
    "duration": 4,
    "start_time": "2024-11-05T17:58:47.868Z"
   },
   {
    "duration": 5,
    "start_time": "2024-11-05T17:58:50.623Z"
   },
   {
    "duration": 3,
    "start_time": "2024-11-05T17:58:53.220Z"
   },
   {
    "duration": 5,
    "start_time": "2024-11-05T17:58:55.640Z"
   },
   {
    "duration": 3,
    "start_time": "2024-11-05T17:59:02.604Z"
   },
   {
    "duration": 4,
    "start_time": "2024-11-05T17:59:04.563Z"
   },
   {
    "duration": 3,
    "start_time": "2024-11-05T17:59:07.538Z"
   },
   {
    "duration": 4,
    "start_time": "2024-11-05T17:59:09.691Z"
   },
   {
    "duration": 3,
    "start_time": "2024-11-05T17:59:13.942Z"
   },
   {
    "duration": 1266,
    "start_time": "2024-11-05T17:59:21.338Z"
   },
   {
    "duration": 5,
    "start_time": "2024-11-05T17:59:24.350Z"
   },
   {
    "duration": 5,
    "start_time": "2024-11-05T17:59:26.690Z"
   },
   {
    "duration": 1289,
    "start_time": "2024-11-05T17:59:28.398Z"
   },
   {
    "duration": 4,
    "start_time": "2024-11-05T17:59:29.865Z"
   },
   {
    "duration": 1394,
    "start_time": "2024-11-05T17:59:30.751Z"
   },
   {
    "duration": 6,
    "start_time": "2024-11-05T17:59:34.962Z"
   },
   {
    "duration": 936,
    "start_time": "2024-11-05T18:01:59.955Z"
   },
   {
    "duration": 2955,
    "start_time": "2024-11-05T18:02:00.893Z"
   },
   {
    "duration": 37,
    "start_time": "2024-11-05T18:02:03.850Z"
   },
   {
    "duration": 8,
    "start_time": "2024-11-05T18:02:03.889Z"
   },
   {
    "duration": 46,
    "start_time": "2024-11-05T18:02:03.900Z"
   },
   {
    "duration": 9,
    "start_time": "2024-11-05T18:02:03.948Z"
   },
   {
    "duration": 31,
    "start_time": "2024-11-05T18:02:03.958Z"
   },
   {
    "duration": 9,
    "start_time": "2024-11-05T18:02:03.990Z"
   },
   {
    "duration": 52,
    "start_time": "2024-11-05T18:02:04.000Z"
   },
   {
    "duration": 7,
    "start_time": "2024-11-05T18:02:04.054Z"
   },
   {
    "duration": 32,
    "start_time": "2024-11-05T18:02:04.063Z"
   },
   {
    "duration": 9,
    "start_time": "2024-11-05T18:02:04.096Z"
   },
   {
    "duration": 56,
    "start_time": "2024-11-05T18:02:04.107Z"
   },
   {
    "duration": 8,
    "start_time": "2024-11-05T18:02:04.167Z"
   },
   {
    "duration": 65,
    "start_time": "2024-11-05T18:02:04.177Z"
   },
   {
    "duration": 24,
    "start_time": "2024-11-05T18:02:04.244Z"
   },
   {
    "duration": 101,
    "start_time": "2024-11-05T18:02:04.348Z"
   },
   {
    "duration": 4,
    "start_time": "2024-11-05T18:02:04.454Z"
   },
   {
    "duration": 82,
    "start_time": "2024-11-05T18:02:04.462Z"
   },
   {
    "duration": 5,
    "start_time": "2024-11-05T18:02:04.545Z"
   },
   {
    "duration": 2,
    "start_time": "2024-11-05T18:02:04.552Z"
   },
   {
    "duration": 4,
    "start_time": "2024-11-05T18:02:04.556Z"
   },
   {
    "duration": 4,
    "start_time": "2024-11-05T18:02:04.562Z"
   },
   {
    "duration": 5,
    "start_time": "2024-11-05T18:02:04.567Z"
   },
   {
    "duration": 4,
    "start_time": "2024-11-05T18:02:04.574Z"
   },
   {
    "duration": 907,
    "start_time": "2024-11-05T18:02:04.581Z"
   },
   {
    "duration": 3,
    "start_time": "2024-11-05T18:02:05.490Z"
   },
   {
    "duration": 5,
    "start_time": "2024-11-05T18:02:05.494Z"
   },
   {
    "duration": 4,
    "start_time": "2024-11-05T18:02:05.500Z"
   },
   {
    "duration": 4,
    "start_time": "2024-11-05T18:02:05.505Z"
   },
   {
    "duration": 6,
    "start_time": "2024-11-05T18:03:36.497Z"
   },
   {
    "duration": 909,
    "start_time": "2024-11-05T18:57:30.481Z"
   },
   {
    "duration": 2836,
    "start_time": "2024-11-05T18:57:31.392Z"
   },
   {
    "duration": 38,
    "start_time": "2024-11-05T18:57:34.230Z"
   },
   {
    "duration": 9,
    "start_time": "2024-11-05T18:57:34.271Z"
   },
   {
    "duration": 31,
    "start_time": "2024-11-05T18:57:34.282Z"
   },
   {
    "duration": 8,
    "start_time": "2024-11-05T18:57:34.314Z"
   },
   {
    "duration": 48,
    "start_time": "2024-11-05T18:57:34.323Z"
   },
   {
    "duration": 8,
    "start_time": "2024-11-05T18:57:34.373Z"
   },
   {
    "duration": 39,
    "start_time": "2024-11-05T18:57:34.383Z"
   },
   {
    "duration": 19,
    "start_time": "2024-11-05T18:57:34.426Z"
   },
   {
    "duration": 40,
    "start_time": "2024-11-05T18:57:34.447Z"
   },
   {
    "duration": 9,
    "start_time": "2024-11-05T18:57:34.489Z"
   },
   {
    "duration": 47,
    "start_time": "2024-11-05T18:57:34.500Z"
   },
   {
    "duration": 8,
    "start_time": "2024-11-05T18:57:34.548Z"
   },
   {
    "duration": 24,
    "start_time": "2024-11-05T18:57:34.558Z"
   },
   {
    "duration": 73,
    "start_time": "2024-11-05T18:57:34.584Z"
   },
   {
    "duration": 98,
    "start_time": "2024-11-05T18:57:34.658Z"
   },
   {
    "duration": 3,
    "start_time": "2024-11-05T18:57:34.758Z"
   },
   {
    "duration": 80,
    "start_time": "2024-11-05T18:57:34.763Z"
   },
   {
    "duration": 5,
    "start_time": "2024-11-05T18:57:34.845Z"
   },
   {
    "duration": 3,
    "start_time": "2024-11-05T18:57:34.851Z"
   },
   {
    "duration": 5,
    "start_time": "2024-11-05T18:57:34.856Z"
   },
   {
    "duration": 4,
    "start_time": "2024-11-05T18:57:34.863Z"
   },
   {
    "duration": 4,
    "start_time": "2024-11-05T18:57:34.868Z"
   },
   {
    "duration": 4,
    "start_time": "2024-11-05T18:57:34.874Z"
   },
   {
    "duration": 930,
    "start_time": "2024-11-05T18:57:34.879Z"
   },
   {
    "duration": 4,
    "start_time": "2024-11-05T18:57:35.811Z"
   },
   {
    "duration": 3,
    "start_time": "2024-11-05T18:57:35.819Z"
   },
   {
    "duration": 20,
    "start_time": "2024-11-05T18:57:35.824Z"
   },
   {
    "duration": 5,
    "start_time": "2024-11-05T18:57:35.845Z"
   },
   {
    "duration": 896,
    "start_time": "2024-11-05T18:58:22.386Z"
   },
   {
    "duration": 2883,
    "start_time": "2024-11-05T18:58:23.284Z"
   },
   {
    "duration": 38,
    "start_time": "2024-11-05T18:58:26.169Z"
   },
   {
    "duration": 9,
    "start_time": "2024-11-05T18:58:26.208Z"
   },
   {
    "duration": 46,
    "start_time": "2024-11-05T18:58:26.219Z"
   },
   {
    "duration": 8,
    "start_time": "2024-11-05T18:58:26.267Z"
   },
   {
    "duration": 32,
    "start_time": "2024-11-05T18:58:26.277Z"
   },
   {
    "duration": 9,
    "start_time": "2024-11-05T18:58:26.310Z"
   },
   {
    "duration": 31,
    "start_time": "2024-11-05T18:58:26.343Z"
   },
   {
    "duration": 9,
    "start_time": "2024-11-05T18:58:26.375Z"
   },
   {
    "duration": 35,
    "start_time": "2024-11-05T18:58:26.386Z"
   },
   {
    "duration": 27,
    "start_time": "2024-11-05T18:58:26.423Z"
   },
   {
    "duration": 30,
    "start_time": "2024-11-05T18:58:26.452Z"
   },
   {
    "duration": 7,
    "start_time": "2024-11-05T18:58:26.486Z"
   },
   {
    "duration": 50,
    "start_time": "2024-11-05T18:58:26.495Z"
   },
   {
    "duration": 100,
    "start_time": "2024-11-05T18:58:26.546Z"
   },
   {
    "duration": 99,
    "start_time": "2024-11-05T18:58:26.647Z"
   },
   {
    "duration": 5,
    "start_time": "2024-11-05T18:58:26.749Z"
   },
   {
    "duration": 86,
    "start_time": "2024-11-05T18:58:26.757Z"
   },
   {
    "duration": 5,
    "start_time": "2024-11-05T18:58:26.845Z"
   },
   {
    "duration": 3,
    "start_time": "2024-11-05T18:58:26.851Z"
   },
   {
    "duration": 5,
    "start_time": "2024-11-05T18:58:26.855Z"
   },
   {
    "duration": 4,
    "start_time": "2024-11-05T18:58:26.863Z"
   },
   {
    "duration": 5,
    "start_time": "2024-11-05T18:58:26.868Z"
   },
   {
    "duration": 3,
    "start_time": "2024-11-05T18:58:26.874Z"
   },
   {
    "duration": 898,
    "start_time": "2024-11-05T18:58:26.879Z"
   },
   {
    "duration": 3,
    "start_time": "2024-11-05T18:58:27.779Z"
   },
   {
    "duration": 3,
    "start_time": "2024-11-05T18:58:27.784Z"
   },
   {
    "duration": 4,
    "start_time": "2024-11-05T18:58:27.789Z"
   },
   {
    "duration": 4,
    "start_time": "2024-11-05T18:58:27.796Z"
   },
   {
    "duration": 4,
    "start_time": "2024-11-05T18:58:51.404Z"
   },
   {
    "duration": 864,
    "start_time": "2024-11-05T18:58:53.471Z"
   },
   {
    "duration": 3,
    "start_time": "2024-11-05T18:58:55.027Z"
   },
   {
    "duration": 4,
    "start_time": "2024-11-05T18:58:58.719Z"
   },
   {
    "duration": 4,
    "start_time": "2024-11-05T18:59:00.930Z"
   },
   {
    "duration": 5,
    "start_time": "2024-11-05T18:59:03.355Z"
   },
   {
    "duration": 898,
    "start_time": "2024-11-05T19:00:47.375Z"
   },
   {
    "duration": 3287,
    "start_time": "2024-11-05T19:00:48.276Z"
   },
   {
    "duration": 38,
    "start_time": "2024-11-05T19:00:51.565Z"
   },
   {
    "duration": 9,
    "start_time": "2024-11-05T19:00:51.606Z"
   },
   {
    "duration": 52,
    "start_time": "2024-11-05T19:00:51.617Z"
   },
   {
    "duration": 8,
    "start_time": "2024-11-05T19:00:51.671Z"
   },
   {
    "duration": 30,
    "start_time": "2024-11-05T19:00:51.681Z"
   },
   {
    "duration": 30,
    "start_time": "2024-11-05T19:00:51.713Z"
   },
   {
    "duration": 28,
    "start_time": "2024-11-05T19:00:51.745Z"
   },
   {
    "duration": 8,
    "start_time": "2024-11-05T19:00:51.776Z"
   },
   {
    "duration": 32,
    "start_time": "2024-11-05T19:00:51.786Z"
   },
   {
    "duration": 9,
    "start_time": "2024-11-05T19:00:51.843Z"
   },
   {
    "duration": 31,
    "start_time": "2024-11-05T19:00:51.854Z"
   },
   {
    "duration": 8,
    "start_time": "2024-11-05T19:00:51.887Z"
   },
   {
    "duration": 17,
    "start_time": "2024-11-05T19:00:51.896Z"
   },
   {
    "duration": 44,
    "start_time": "2024-11-05T19:00:51.915Z"
   },
   {
    "duration": 95,
    "start_time": "2024-11-05T19:00:51.961Z"
   },
   {
    "duration": 3,
    "start_time": "2024-11-05T19:00:52.058Z"
   },
   {
    "duration": 82,
    "start_time": "2024-11-05T19:00:52.062Z"
   },
   {
    "duration": 7,
    "start_time": "2024-11-05T19:00:52.147Z"
   },
   {
    "duration": 3,
    "start_time": "2024-11-05T19:00:52.155Z"
   },
   {
    "duration": 4,
    "start_time": "2024-11-05T19:00:52.160Z"
   },
   {
    "duration": 4,
    "start_time": "2024-11-05T19:00:52.166Z"
   },
   {
    "duration": 4,
    "start_time": "2024-11-05T19:00:52.172Z"
   },
   {
    "duration": 65,
    "start_time": "2024-11-05T19:00:52.178Z"
   },
   {
    "duration": 888,
    "start_time": "2024-11-05T19:00:52.245Z"
   },
   {
    "duration": 7,
    "start_time": "2024-11-05T19:00:53.135Z"
   },
   {
    "duration": 4,
    "start_time": "2024-11-05T19:00:53.146Z"
   },
   {
    "duration": 4,
    "start_time": "2024-11-05T19:00:53.152Z"
   },
   {
    "duration": 4,
    "start_time": "2024-11-05T19:00:53.158Z"
   }
  ],
  "kernelspec": {
   "display_name": "Python 3 (ipykernel)",
   "language": "python",
   "name": "python3"
  },
  "language_info": {
   "codemirror_mode": {
    "name": "ipython",
    "version": 3
   },
   "file_extension": ".py",
   "mimetype": "text/x-python",
   "name": "python",
   "nbconvert_exporter": "python",
   "pygments_lexer": "ipython3",
   "version": "3.9.19"
  },
  "toc": {
   "base_numbering": 1,
   "nav_menu": {},
   "number_sections": true,
   "sideBar": true,
   "skip_h1_title": true,
   "title_cell": "Table of Contents",
   "title_sidebar": "Contents",
   "toc_cell": false,
   "toc_position": {},
   "toc_section_display": true,
   "toc_window_display": false
  }
 },
 "nbformat": 4,
 "nbformat_minor": 2
}
